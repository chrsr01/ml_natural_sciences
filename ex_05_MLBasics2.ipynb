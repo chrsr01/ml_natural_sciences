{
 "cells": [
  {
   "cell_type": "markdown",
   "metadata": {
    "deletable": false,
    "editable": false,
    "nbgrader": {
     "cell_type": "markdown",
     "checksum": "bb8f063556c34fea9ce5296588d4cd67",
     "grade": false,
     "grade_id": "cell-06aa629a0207eeaf",
     "locked": true,
     "schema_version": 3,
     "solution": false,
     "task": false
    }
   },
   "source": [
    "# Exercise Sheet No. 5\n",
    "\n",
    "---\n",
    "\n",
    "> Machine Learning for Natural Sciences, Summer 2025, TT.-Prof. Pascal Friederich, pascal.friederich@kit.edu\n",
    "> \n",
    "> Deadline: May 26th 2025, 08:00\n",
    ">\n",
    "> Tutor: henrik.schopmans@kit.edu\n",
    ">\n",
    "> **Please ask questions in the forum/discussion board and only contact the Tutor when there are issues with the grading**\n",
    "---\n",
    "\n",
    "**Topic**: This exercise sheet will focus on Bayesian statistics and Naive Bayes Classification"
   ]
  },
  {
   "cell_type": "markdown",
   "metadata": {
    "deletable": false,
    "editable": false,
    "nbgrader": {
     "cell_type": "markdown",
     "checksum": "8d0b2cf445cd7aa1f2865867350ec5fd",
     "grade": false,
     "grade_id": "cell-72d95f678d4226c2",
     "locked": true,
     "schema_version": 3,
     "solution": false,
     "task": false
    }
   },
   "source": [
    "⚠️ **INFO.** In the tutorial session corresponding to this exercise, we will additionally ready and study the research paper `exercise_paper` which you can find in the corresponding Ilias folder. We will read parts of this paper during the tutorial, but you can optionally already have a look at it beforehand.\n",
    "\n",
    "⚠️ **NOTE.** In an attempt to increase your opportunities for pre-submission self-checks of the assignments, hash-based assert statements will be provided to you throughout this notebook. These assert statements are used to give you an indication about the correctness of specific numeric values:\n",
    "\n",
    "```python\n",
    "some_variable = 0.73\n",
    "assert hash(f'{some_variable:.2f}') == 4545130770134580, 'your value is likely incorrect!'\n",
    "```\n",
    "\n",
    "Also note that these hash-based checks do *NOT* check the value with the required precision of the hidden tests! Keep this in mind when contemplating to simply brute-force search the correct value. So even if a brute-forced value passes the self-check assert statement, it will likely *NOT* pass the hidden tests for the grading.\n",
    "\n",
    "Therefore, if the hash-based self-check fails, your computed value is most likely incorrect. However, the self-check passing does not fully guarantee that correctness! The hash-based asserts statements are necessary but not sufficient conditions for the final result."
   ]
  },
  {
   "cell_type": "markdown",
   "metadata": {},
   "source": [
    "Please add here your group members' names and student IDs. \n",
    "\n",
    "Names: \n",
    "\n",
    "IDs:"
   ]
  },
  {
   "cell_type": "code",
   "execution_count": 147,
   "metadata": {
    "deletable": false,
    "editable": false,
    "nbgrader": {
     "cell_type": "code",
     "checksum": "b5fa8f151535d9c077c80926cbc9b38f",
     "grade": false,
     "grade_id": "cell-dc8e622a586ed8d6",
     "locked": true,
     "schema_version": 3,
     "solution": false,
     "task": false
    }
   },
   "outputs": [],
   "source": [
    "##### DO NOT CHANGE #####\n",
    "import io\n",
    "import csv\n",
    "import copy\n",
    "import hashlib\n",
    "import typing as t\n",
    "from collections import defaultdict\n",
    "\n",
    "import pandas as pd\n",
    "import numpy as np\n",
    "import seaborn as sns\n",
    "import matplotlib.pyplot as plt\n",
    "from scipy.integrate import quad\n",
    "\n",
    "hashcheck = lambda v: hashlib.sha256(v.encode()).hexdigest()\n",
    "\n",
    "##### DO NOT CHANGE #####"
   ]
  },
  {
   "cell_type": "markdown",
   "metadata": {
    "deletable": false,
    "editable": false,
    "nbgrader": {
     "cell_type": "markdown",
     "checksum": "68295639e22f59f43a50608d6cc914a9",
     "grade": false,
     "grade_id": "cell-b4b7e8190a5548e9",
     "locked": true,
     "schema_version": 3,
     "solution": false,
     "task": false
    }
   },
   "source": [
    "# 5 Bayes' theorem\n",
    "\n",
    "This section will review Bayes' rule and some additional important formulas from lecture 3. Bayes' rule defines how the posterior probability\n",
    "\n",
    "$$\n",
    "\\boxed{p(y|x) = \\frac{p(x|y) p(y)}{p(x)} }\n",
    "$$\n",
    "\n",
    "is defined by the likelihood $p(x|y)$, the evidence $p(x)$ and the prior $p(y)$. Here, $p(x|y)$ is a conditional probability, which gives the probability of event $x$ occurring given the condition $y$.\n",
    "\n",
    "**Practical Example.** Lets clarify this with a concrete example: Here we'll assume that $y \\in \\{ \\mathrm{healthy}, \\mathrm{sick} \\}$ is a random discrete variable that tells us if a person has actually caught a certain disease. Additionally, $x \\in \\{ \\mathrm{negative}, \\mathrm{positive} \\}$ is the outcome of a test that is supposed to detect that disease. By looking at population statistics we can see that only about 1 in 1000 people will actually ever catch this disease in their life. Therefore, we know that $p(y=\\mathrm{sick}) = 1 / 1000 = 0.001$ and likewise $p(y=\\mathrm{healthy}) = 1 - p(y=\\mathrm{sick}) = 0.999$. Additionally, through clinical tests we may also know the overall probability of a test being positive or negative $p(x)$ and the *sensitivity* of the test $p(x=\\mathrm{positive}|y=\\mathrm{sick})$, which is the probability of the test showing a positive result when a person actually has the disease. All of this information can then be used to determine the conditional probability $p(y=\\mathrm{sick}|x=\\mathrm{positive})$, for example, of having the disease when the test result is positive. Interestingly, $p(y=\\mathrm{healthy}|x=\\mathrm{positive})$ often times turns out to be higher than intuitively expected - especially for rare diseases. This is because for really rare diseases the term $p(y=\\mathrm{healthy})$ is so high that a possible test would need an incredibly high sensitivity to compensate for this.\n",
    "\n",
    "**Marginalization.** Marginalization is the process of \"eliminating a variable\" from a distribution. For continuous variable $y$, the marginalized distribution \n",
    "\n",
    "$$\n",
    "p(x) = \\int\\limits_{-\\infty}^{+\\infty} p(x,y=s) ds = \\int\\limits_{-\\infty}^{+\\infty} p(x|y=s) p(y=s) ds\n",
    "$$\n",
    "\n",
    "is defined as the integral over all possible values of $y$. Similarly for a discrete variable $y$, the marginalization\n",
    "\n",
    "$$\n",
    "p(x) = \\sum\\limits_k p(x,y=k) = \\sum\\limits_k p(x|y=k) \\; p(y=k)\n",
    "$$\n",
    "\n",
    "is defined as the discrete sum over all possible realizations $k$ of the variable."
   ]
  },
  {
   "cell_type": "markdown",
   "metadata": {
    "deletable": false,
    "editable": false,
    "nbgrader": {
     "cell_type": "markdown",
     "checksum": "a79f93f70779d4303fbe120af26924df",
     "grade": false,
     "grade_id": "task-5-1",
     "locked": true,
     "schema_version": 3,
     "solution": false,
     "task": false
    }
   },
   "source": [
    "## 5.1 Exam Qualifications\n",
    "\n",
    "**The purpose of exams.** Students generally go to university to learn. Each lecture is designed to teach students about some specific aspect of a subject area (physics, chemistry, computer science etc.). In this process, each course has a specific set of learning goals about certain topics that students should be familiar with after completing the course. So there exists an abstract set of qualifications that a student should obtain by taking each course. At the end of each course there is an exam which is supposed to test whether a student sufficiently obtained these qualifications. However, the definition of these qualifications may be complex and it is easy to imagine that there can be a rift between these true qualifications and what an exam is able to test in a limited amount of time. For example, it is likely easy to recall some fellow student which managed to pass a certain exam even with a *shaky* understanding of the topic. There might also be the opposite case of students failing the exam even though they seemed to have a good grasp of the topic. Ultimately, one can say that the outcome of an exam is not always perfectly aligned with the knowledge that a person has actually acquired. \n",
    "\n",
    "**A case study.** While Prof. Friederich is grading the ML4Nat exam one day, he wonders how effective his own exam is at judging whether or not a student has actually acquired all the necessary qualifications from his lecture. After thinking about it for a while, he decides that this can be framed as a question of probabilities: *What is the probability that a student has acquired all the necessary qualification, given that they passed the exam?*\n",
    "\n",
    "Formally, we can define two random variables $x$ and $y$. The discrete random variable $y = \\{ \\mathrm{qualified}, \\mathrm{unqualified} \\}$ captures whether a student has actually acquired the necessary qualification or not. The second discrete random variable $x = \\{ \\mathrm{pass}, \\mathrm{fail} \\}$ captures whether a student has passed the exam or failed it. To answer the initial question we therefore have to calculate the probability \n",
    "\n",
    "$$\n",
    "P(y=\\mathrm{qualified}|x=\\mathrm{pass})\n",
    "$$\n",
    "\n",
    "that a student is sufficiently qualified *under the condition* that they have passed the exam. This can be done by applying Bayes rule:\n",
    "\n",
    "$$\n",
    "P(y=\\mathrm{qualified}|x=\\mathrm{pass}) = \\frac{ P(x=\\mathrm{pass}|y=\\mathrm{qualified}) \\cdot P(y=\\mathrm{qualified})}{P(x=\\mathrm{pass})}\n",
    "$$\n",
    "\n",
    "This requires us to provide an estimate of the following 3 probabilities:\n",
    "\n",
    "- $P(x=\\mathrm{pass})$: The overall probability of passing the exam.\n",
    "- $P(y=\\mathrm{qualified})$: The prior probabilitiy of having acquired the necessary qualifications.\n",
    "- $P(x=\\mathrm{pass} | y=\\mathrm{qualified})$: The probability of passing the exam under the condition of possessing the necessary qualifications.\n",
    "\n",
    "To estimate the probability $P(x=\\mathrm{pass} | y=\\mathrm{qualified})$ of passing the exam when possessing the necessary qualifications, Prof. Friederich makes the assumption that all of his PhD students already possess all the necessary qualifications. All PhD students take the exam, and 9 out of 10 pass it.\n",
    "\n",
    "To estimate the probability $P(y=\\mathrm{qualified})$, Prof. Friederich draws from his experience of talking to various students throughout the semester and estimates that about $80\\%$ of the students generally acquire the necessary qualifications."
   ]
  },
  {
   "cell_type": "markdown",
   "metadata": {
    "deletable": false,
    "editable": false,
    "nbgrader": {
     "cell_type": "markdown",
     "checksum": "60a8e449da82baa9a9a412cb41145640",
     "grade": false,
     "grade_id": "cell-c60c72088095b1a1",
     "locked": true,
     "schema_version": 3,
     "solution": false,
     "task": false
    }
   },
   "source": [
    "**🛠️ Task 5.1 (1 points)** Fill in the numeric values for the probabilities using the information provided in the previous description. Set the value of the variable ``p_y`` to the prior probability of possessing the necessary qualifications and the value of the variable ``p_x_y`` as the conditional probability of passing the exam under the condition of possessing the necessary qualification."
   ]
  },
  {
   "cell_type": "code",
   "execution_count": 148,
   "metadata": {
    "deletable": false,
    "nbgrader": {
     "cell_type": "code",
     "checksum": "5077b3f8eaec55947937523bfa04c3a7",
     "grade": false,
     "grade_id": "ans-5-1",
     "locked": false,
     "schema_version": 3,
     "solution": true,
     "task": false
    }
   },
   "outputs": [],
   "source": [
    "# TASK: Provide estimates for the task probabilities from the previous description.\n",
    "\n",
    "# HINT: Give the probabilities as float ratios between 0 and 1 and NOT as percentages\n",
    "\n",
    "p_y: float = 0.8\n",
    "p_x_y: float = 0.9\n",
    "    \n",
    "# YOUR CODE HERE\n"
   ]
  },
  {
   "cell_type": "code",
   "execution_count": 149,
   "metadata": {
    "deletable": false,
    "editable": false,
    "nbgrader": {
     "cell_type": "code",
     "checksum": "63e95482cec31027e2a48313c2b1854c",
     "grade": true,
     "grade_id": "test-5-1-probabilities-text",
     "locked": true,
     "points": 2,
     "schema_version": 3,
     "solution": false,
     "task": false
    }
   },
   "outputs": [],
   "source": [
    "##### DO NOT CHANGE #####\n",
    "# ID: test-5-1-probabilities-text - possible points: 2\n",
    "\n",
    "assert isinstance(p_y, float)\n",
    "assert 0 <= p_y <= 1.0, 'give probabilities as ratios in the range [0, 1] and not as percentages!'\n",
    "assert hashcheck(f'{p_y:.1f}') == '1e9d7c27c8bbc8ddf0055c93e064a62fa995d177fee28cc8fa949bc8a4db06f4', 'p_y is likely incorrect!'\n",
    "\n",
    "assert isinstance(p_x_y, float)\n",
    "assert 0 <= p_x_y <= 1.0, 'give probabilities as ratios in the range [0, 1] and not as percentages!'\n",
    "assert hashcheck(f'{p_x_y:.1f}') == '8139b33952401b3ee0e2ca84651cb9a1d7f66d442bf908f9cf1f53ea746e5801', 'p_x_y is likely incorrect!'\n",
    "\n",
    "\n",
    "##### DO NOT CHANGE #####"
   ]
  },
  {
   "cell_type": "markdown",
   "metadata": {
    "deletable": false,
    "editable": false,
    "nbgrader": {
     "cell_type": "markdown",
     "checksum": "c16b1d086b0a283f84f180b1e53a53fb",
     "grade": false,
     "grade_id": "task-5-2",
     "locked": true,
     "schema_version": 3,
     "solution": false,
     "task": false
    }
   },
   "source": [
    "**🛠️ Task 5.2 (2 points)** Estimate the overall chance of passing the exam $P(x=\\mathrm{pass})$. This probability can be very accurately approximated by looking at the results of the previous years. Use the given statistics of the previous years to calculate an approximate value of $P(x=\\mathrm{pass})$ and assign the value to the variable ``p_x``"
   ]
  },
  {
   "cell_type": "code",
   "execution_count": 150,
   "metadata": {
    "deletable": false,
    "nbgrader": {
     "cell_type": "code",
     "checksum": "725a42fa51f8dc0bc7dadfc55fdf3ef9",
     "grade": false,
     "grade_id": "ans-5-2",
     "locked": false,
     "schema_version": 3,
     "solution": true,
     "task": false
    }
   },
   "outputs": [],
   "source": [
    "# A list that contains the exam statistics of the previous years. Each element is a dictionary that contains \n",
    "# the following string keys:\n",
    "# - year: The year in which the exam was written\n",
    "# - pass: the number of students that passed the exam\n",
    "# - fail: the number of students that failed the exam\n",
    "previous_statistics: list[dict[str, int]] = [\n",
    "    {\n",
    "        'year': 2021,\n",
    "        'pass': 162,\n",
    "        'fail': 35,\n",
    "    },\n",
    "    {\n",
    "        'year': 2022,\n",
    "        'pass': 174,\n",
    "        'fail': 23,\n",
    "    },\n",
    "    {\n",
    "        'year': 2023,\n",
    "        'pass': 166,\n",
    "        'fail': 31,\n",
    "    }\n",
    "]\n",
    "\n",
    "    \n",
    "# TASK: Provide estimates for the task probabilities by calculating from the given information.\n",
    "\n",
    "# HINT 1: Give the probabilities as float ratios between 0 and 1 and NOT as percentages\n",
    "\n",
    "# HINT 2: One can think of *multiple* ways to estimate the overall probability of passing \n",
    "#         from the given past statistics. If the self-check fails, try to think of an \n",
    "#         alternate approach.\n",
    "    \n",
    "pass_total = np.sum([s['pass'] for s in previous_statistics])\n",
    "fail_total = np.sum([s['fail'] for s in previous_statistics])\n",
    "\n",
    "p_x: float = pass_total / (pass_total + fail_total)\n",
    "\n",
    "    \n",
    "    \n",
    "# YOUR CODE HERE\n"
   ]
  },
  {
   "cell_type": "code",
   "execution_count": 151,
   "metadata": {
    "deletable": false,
    "editable": false,
    "nbgrader": {
     "cell_type": "code",
     "checksum": "eabc49adb5886f133e9cc3b5624f5cc1",
     "grade": true,
     "grade_id": "test-5-2-exam-statistics",
     "locked": true,
     "points": 2,
     "schema_version": 3,
     "solution": false,
     "task": false
    }
   },
   "outputs": [],
   "source": [
    "##### DO NOT CHANGE #####\n",
    "# ID: test-5-2-exam-statistics - possible points: 2\n",
    "\n",
    "assert isinstance(p_x, float)\n",
    "assert p_x < 1.0, 'give probabilities as ratios in the range [0, 1] and not as percentages!'\n",
    "assert hashcheck(f'{p_x:.2f}') == '1e181f0934d441445f03ff51c972ef44275b830c10a80401e53b27bf5baf327a', \"p_x answer is likely incorrect!\"\n",
    "\n",
    "\n",
    "##### DO NOT CHANGE #####"
   ]
  },
  {
   "cell_type": "markdown",
   "metadata": {
    "deletable": false,
    "editable": false,
    "nbgrader": {
     "cell_type": "markdown",
     "checksum": "9114cea7ff9ac940b08fa5156aad0bb3",
     "grade": false,
     "grade_id": "task-5-3",
     "locked": true,
     "schema_version": 3,
     "solution": false,
     "task": false
    }
   },
   "source": [
    "**🛠️ Task 5.3 (1 point)** Given the probabilities from the previous task, now apply Bayes' Rule and calculate the probability $P(y=\\mathrm{qualified}\\;|\\;x=\\mathrm{pass})$ that a student has acquired the necessary qualifications, given that they have passed the exam. Assign the resulting conditional probability to the variable ``p_y_x``."
   ]
  },
  {
   "cell_type": "code",
   "execution_count": 152,
   "metadata": {
    "deletable": false,
    "nbgrader": {
     "cell_type": "code",
     "checksum": "7d89f5eca00a42632b952b7483095712",
     "grade": false,
     "grade_id": "ans-5-3",
     "locked": false,
     "schema_version": 3,
     "solution": true,
     "task": false
    }
   },
   "outputs": [],
   "source": [
    "# TASK: Compute the conditional probability p(y=qualified|x=pass) using previously known / estimated \n",
    "#       probabilities using bayes rule and assign it to the variable p_y_x\n",
    "\n",
    "p_y_x: float = p_x_y * p_y / p_x\n",
    "\n",
    "# YOUR CODE HERE\n"
   ]
  },
  {
   "cell_type": "code",
   "execution_count": 153,
   "metadata": {
    "deletable": false,
    "editable": false,
    "nbgrader": {
     "cell_type": "code",
     "checksum": "6871a5d5b79a60a45a3e7c3142853418",
     "grade": true,
     "grade_id": "test-5-3-conditional-probability",
     "locked": true,
     "points": 1,
     "schema_version": 3,
     "solution": false,
     "task": false
    }
   },
   "outputs": [
    {
     "name": "stdout",
     "output_type": "stream",
     "text": [
      "If a student has successfully passed the exam, there is a 84.76% percent chance that they have actually acquired the necessary qualifications from the course!\n"
     ]
    }
   ],
   "source": [
    "##### DO NOT CHANGE #####\n",
    "# ID: test-5-3-conditional-probability - possible points: 1\n",
    "\n",
    "print(f'If a student has successfully passed the exam, there is a {p_y_x*100:.2f}% percent '\n",
    "      f'chance that they have actually acquired the necessary qualifications from the course!')\n",
    "assert isinstance(p_y_x, float)\n",
    "assert 0 <= p_y_x <= 1.0, 'give probabilities as ratios in the range [0, 1] and not as percentages!'\n",
    "assert hashcheck(f'{p_y_x:.2f}') == '1e181f0934d441445f03ff51c972ef44275b830c10a80401e53b27bf5baf327a'\n",
    "\n",
    "\n",
    "##### DO NOT CHANGE #####"
   ]
  },
  {
   "cell_type": "markdown",
   "metadata": {
    "deletable": false,
    "editable": false,
    "nbgrader": {
     "cell_type": "markdown",
     "checksum": "41add6eb69e235d1c390302ccb8e9f27",
     "grade": false,
     "grade_id": "cell-9e6bec48c99422db",
     "locked": true,
     "schema_version": 3,
     "solution": false,
     "task": false
    }
   },
   "source": [
    "So in the end we have found out that there is a relatively high - yet not completely certain - chance of having acquired the necessary qualifications when passing the exam. Ultimately, every form of examination is trying to maximize this metric. As everyone might have already experienced, different exams achieve this ideal to different degrees.\n",
    "\n",
    "**The data-centric approach.** In the previous section, we have solved the initial question concerning exam \n",
    "qualifications in a *classic* fashion through a combination of educated guesses and statistics. In the end, such an approach has to be customized for each individual application. In other applications, it might be more difficult to estimate certain probabilities and past statistics might not be accessible. Overall, this kind of approach requires a lot of domain knowledge, which might or might not be available in certain situations. Contrary to this knowledge-centric approach is the *data-centric* approach - on which machine learning methods are generally based. Instead of manually deriving a solution, it is automatically extracted from large amounts of raw data."
   ]
  },
  {
   "cell_type": "markdown",
   "metadata": {
    "deletable": false,
    "editable": false,
    "nbgrader": {
     "cell_type": "markdown",
     "checksum": "942146680438106014edc799419acdfc",
     "grade": false,
     "grade_id": "cell-6e51825289e97a58",
     "locked": true,
     "schema_version": 3,
     "solution": false,
     "task": false
    }
   },
   "source": [
    "## 5.2 Data Analysis\n",
    "\n",
    "**data collection.** We return to our example of exam qualifications - trying to answer the question of how well Prof. Friederich's exam is at determining whether students have obtained the necessary qualifications. However, in the following sections we approach this question from a *data-centric* prespective. To do this, we first need the necessary raw data. \n",
    "\n",
    "**student survey.** We assume that Prof. Friederich conducts a large-scale (hypothetical) survey among his students. Following the most recent exam, he randomly selects a subset of the students and invites them to a personal interview. Based on each 3 hour personal interview about the content of the lecture, Prof. Friederich is certain about the true qualifications of each student. Slowly, over the course of multiple weeks, this survey results in a dataset consisting of each students true qualification state $y_{\\mathrm{true}} \\in \\{ \\mathrm{qualified}, \\mathrm{unqualified} \\}$ in addition to their exam results $x \\in \\{ \\mathrm{pass}, \\mathrm{fail} \\}$. Additionally, each student is asked to provide the following additional information:\n",
    "\n",
    "- The number of hours $t \\in [0, \\infty)$ that they have invested into studying.\n",
    "- The number of points $r \\in [0, 100]$ that a student has achieved in the exercises alongside the lecture.\n",
    "- The boolean state $l \\in \\{ \\mathrm{seldom}, \\mathrm{regular} \\} = \\{0,1\\}$ of how frequently a student has attended the lecture.\n",
    "- The boolean state $g \\in \\{ \\mathrm{ignored}, \\mathrm{used} \\} = \\{0, 1\\}$ of whether a student has used old exams during studying."
   ]
  },
  {
   "cell_type": "markdown",
   "metadata": {
    "deletable": false,
    "editable": false,
    "nbgrader": {
     "cell_type": "markdown",
     "checksum": "a6ac95ef0e39f053562acd7fb2f95d2a",
     "grade": false,
     "grade_id": "cell-3f0b02ea73a9b2e5",
     "locked": true,
     "schema_version": 3,
     "solution": false,
     "task": false
    }
   },
   "source": [
    "**🛠️ Task 5.4 (1 point)** The dataset is available at https://bwsyncandshare.kit.edu/s/YwPT62wGYtK7HCL in CSV format. Your task is to write the code to retrieve this dataset from the remote file storage server and load it as a ``pandas.DataFrame`` object into the local variable ``df`` for further processing."
   ]
  },
  {
   "cell_type": "code",
   "execution_count": 154,
   "metadata": {
    "deletable": false,
    "nbgrader": {
     "cell_type": "code",
     "checksum": "66bf579d531c0936a987a8db991dbcf7",
     "grade": false,
     "grade_id": "cell-7b3358711db7de06",
     "locked": false,
     "schema_version": 3,
     "solution": true,
     "task": false
    }
   },
   "outputs": [
    {
     "data": {
      "text/html": [
       "<div>\n",
       "<style scoped>\n",
       "    .dataframe tbody tr th:only-of-type {\n",
       "        vertical-align: middle;\n",
       "    }\n",
       "\n",
       "    .dataframe tbody tr th {\n",
       "        vertical-align: top;\n",
       "    }\n",
       "\n",
       "    .dataframe thead th {\n",
       "        text-align: right;\n",
       "    }\n",
       "</style>\n",
       "<table border=\"1\" class=\"dataframe\">\n",
       "  <thead>\n",
       "    <tr style=\"text-align: right;\">\n",
       "      <th></th>\n",
       "      <th>passed</th>\n",
       "      <th>qualified</th>\n",
       "      <th>hours_study</th>\n",
       "      <th>exercise_points</th>\n",
       "      <th>lecture</th>\n",
       "      <th>old_exams</th>\n",
       "    </tr>\n",
       "    <tr>\n",
       "      <th>index</th>\n",
       "      <th></th>\n",
       "      <th></th>\n",
       "      <th></th>\n",
       "      <th></th>\n",
       "      <th></th>\n",
       "      <th></th>\n",
       "    </tr>\n",
       "  </thead>\n",
       "  <tbody>\n",
       "    <tr>\n",
       "      <th>0</th>\n",
       "      <td>1</td>\n",
       "      <td>1</td>\n",
       "      <td>115</td>\n",
       "      <td>52</td>\n",
       "      <td>1</td>\n",
       "      <td>1</td>\n",
       "    </tr>\n",
       "    <tr>\n",
       "      <th>1</th>\n",
       "      <td>1</td>\n",
       "      <td>1</td>\n",
       "      <td>80</td>\n",
       "      <td>59</td>\n",
       "      <td>0</td>\n",
       "      <td>1</td>\n",
       "    </tr>\n",
       "    <tr>\n",
       "      <th>2</th>\n",
       "      <td>1</td>\n",
       "      <td>1</td>\n",
       "      <td>210</td>\n",
       "      <td>82</td>\n",
       "      <td>0</td>\n",
       "      <td>1</td>\n",
       "    </tr>\n",
       "    <tr>\n",
       "      <th>3</th>\n",
       "      <td>1</td>\n",
       "      <td>1</td>\n",
       "      <td>115</td>\n",
       "      <td>78</td>\n",
       "      <td>1</td>\n",
       "      <td>0</td>\n",
       "    </tr>\n",
       "    <tr>\n",
       "      <th>4</th>\n",
       "      <td>1</td>\n",
       "      <td>1</td>\n",
       "      <td>215</td>\n",
       "      <td>65</td>\n",
       "      <td>0</td>\n",
       "      <td>0</td>\n",
       "    </tr>\n",
       "    <tr>\n",
       "      <th>...</th>\n",
       "      <td>...</td>\n",
       "      <td>...</td>\n",
       "      <td>...</td>\n",
       "      <td>...</td>\n",
       "      <td>...</td>\n",
       "      <td>...</td>\n",
       "    </tr>\n",
       "    <tr>\n",
       "      <th>259</th>\n",
       "      <td>1</td>\n",
       "      <td>1</td>\n",
       "      <td>225</td>\n",
       "      <td>76</td>\n",
       "      <td>1</td>\n",
       "      <td>0</td>\n",
       "    </tr>\n",
       "    <tr>\n",
       "      <th>260</th>\n",
       "      <td>1</td>\n",
       "      <td>1</td>\n",
       "      <td>240</td>\n",
       "      <td>61</td>\n",
       "      <td>1</td>\n",
       "      <td>0</td>\n",
       "    </tr>\n",
       "    <tr>\n",
       "      <th>261</th>\n",
       "      <td>1</td>\n",
       "      <td>1</td>\n",
       "      <td>220</td>\n",
       "      <td>88</td>\n",
       "      <td>0</td>\n",
       "      <td>1</td>\n",
       "    </tr>\n",
       "    <tr>\n",
       "      <th>262</th>\n",
       "      <td>1</td>\n",
       "      <td>0</td>\n",
       "      <td>160</td>\n",
       "      <td>65</td>\n",
       "      <td>1</td>\n",
       "      <td>1</td>\n",
       "    </tr>\n",
       "    <tr>\n",
       "      <th>263</th>\n",
       "      <td>1</td>\n",
       "      <td>0</td>\n",
       "      <td>155</td>\n",
       "      <td>92</td>\n",
       "      <td>1</td>\n",
       "      <td>1</td>\n",
       "    </tr>\n",
       "  </tbody>\n",
       "</table>\n",
       "<p>264 rows × 6 columns</p>\n",
       "</div>"
      ],
      "text/plain": [
       "       passed  qualified  hours_study  exercise_points  lecture  old_exams\n",
       "index                                                                     \n",
       "0           1          1          115               52        1          1\n",
       "1           1          1           80               59        0          1\n",
       "2           1          1          210               82        0          1\n",
       "3           1          1          115               78        1          0\n",
       "4           1          1          215               65        0          0\n",
       "...       ...        ...          ...              ...      ...        ...\n",
       "259         1          1          225               76        1          0\n",
       "260         1          1          240               61        1          0\n",
       "261         1          1          220               88        0          1\n",
       "262         1          0          160               65        1          1\n",
       "263         1          0          155               92        1          1\n",
       "\n",
       "[264 rows x 6 columns]"
      ]
     },
     "execution_count": 154,
     "metadata": {},
     "output_type": "execute_result"
    }
   ],
   "source": [
    "import io\n",
    "import requests\n",
    "import pandas as pd\n",
    "import io\n",
    "\n",
    "def nextcloud_download(url: str) -> str:\n",
    "    \"\"\"\n",
    "    Downloads the *content* of a file from a nextcloud server.\n",
    "    \n",
    "    :param url: the absolute URL of the file on the nextcloud server\n",
    "    \n",
    "    :returns: the string content of the file\n",
    "    \"\"\"\n",
    "    response = requests.get(f'{url}/download')\n",
    "    content = response.content.decode('utf-8')\n",
    "    return content\n",
    "\n",
    "\n",
    "# TASK: Use the ``nextcloud_download`` function to download the dataset and then load\n",
    "#       the dataset into the given ``df`` variable as a pandas dataframe object.\n",
    "\n",
    "df: pd.DataFrame = pd.read_csv(io.StringIO(nextcloud_download('https://bwsyncandshare.kit.edu/s/YwPT62wGYtK7HCL')),sep=\",\", index_col=0)\n",
    "\n",
    "df"
   ]
  },
  {
   "cell_type": "code",
   "execution_count": 155,
   "metadata": {
    "deletable": false,
    "editable": false,
    "nbgrader": {
     "cell_type": "code",
     "checksum": "c5ba93db1c334bbb01ecbbb084073f5d",
     "grade": true,
     "grade_id": "test-5-4-load-dataset",
     "locked": true,
     "points": 1,
     "schema_version": 3,
     "solution": false,
     "task": false
    }
   },
   "outputs": [],
   "source": [
    "##### DO NOT CHANGE #####\n",
    "# ID: test-5-4-load-dataset - possible points: 1\n",
    "\n",
    "assert isinstance(df, pd.DataFrame)\n",
    "assert len(df) != 0\n",
    "assert len(df) == 264\n",
    "\n",
    "# NOTE: The hidden tests will test some randomly chosen example elements from the dataset.\n",
    "\n",
    "\n",
    "##### DO NOT CHANGE #####"
   ]
  },
  {
   "cell_type": "markdown",
   "metadata": {
    "deletable": false,
    "editable": false,
    "nbgrader": {
     "cell_type": "markdown",
     "checksum": "266e0adc174579e591c9440522cceff2",
     "grade": false,
     "grade_id": "cell-c34411470370fab6",
     "locked": true,
     "schema_version": 3,
     "solution": false,
     "task": false
    }
   },
   "source": [
    "**🛠️ Task 5.5 (1 point)** In the previous section we wanted to approximate the conditional probability of $P(y=\\mathrm{qualified}\\;|\\;x=\\mathrm{pass})$ of a student possessing the required qualification under the condition of having passed the exam. Empirically estimate this conditional probability directly from the student survey data and assign the value to the variable ``p_y_x_data``."
   ]
  },
  {
   "cell_type": "code",
   "execution_count": 156,
   "metadata": {
    "deletable": false,
    "nbgrader": {
     "cell_type": "code",
     "checksum": "80b7db7c475839cfcb097c4c8b9b010c",
     "grade": false,
     "grade_id": "cell-2d3823960613d127",
     "locked": false,
     "schema_version": 3,
     "solution": true,
     "task": false
    }
   },
   "outputs": [],
   "source": [
    "# TASK: Compute the conditional probability p(y=qualified | x=pass) directly from the dataset and \n",
    "#       store the resulting float value in this variable.\n",
    "passed_students = df[df['passed'] == 1]\n",
    "\n",
    "qualified_and_passed = passed_students[passed_students['qualified'] == 1].shape[0]\n",
    "p_y_x_data: float = qualified_and_passed / passed_students.shape[0]\n",
    "\n",
    "# YOUR CODE HERE\n"
   ]
  },
  {
   "cell_type": "code",
   "execution_count": 157,
   "metadata": {
    "deletable": false,
    "editable": false,
    "nbgrader": {
     "cell_type": "code",
     "checksum": "97a38a6e4af624b809c431348340d0eb",
     "grade": true,
     "grade_id": "test-5-5-direct-probability",
     "locked": true,
     "points": 1,
     "schema_version": 3,
     "solution": false,
     "task": false
    }
   },
   "outputs": [],
   "source": [
    "##### DO NOT CHANGE #####\n",
    "# ID: test-5-5-direct-probability - possible points: 1\n",
    "\n",
    "assert isinstance(p_y_x_data, float), 'please give solution as a float'\n",
    "assert 0.0 <= p_y_x_data <= 1.0, 'please give probability in the range [0, 1]'\n",
    "assert hashcheck(f'{p_y_x_data:.1f}') == '1e9d7c27c8bbc8ddf0055c93e064a62fa995d177fee28cc8fa949bc8a4db06f4'\n",
    "\n",
    "\n",
    "##### DO NOT CHANGE #####"
   ]
  },
  {
   "cell_type": "code",
   "execution_count": 158,
   "metadata": {
    "deletable": false,
    "editable": false,
    "nbgrader": {
     "cell_type": "code",
     "checksum": "39130e6a238044e5a9e247b4d2c6dd35",
     "grade": false,
     "grade_id": "cell-cc277c979997eea3",
     "locked": true,
     "schema_version": 3,
     "solution": false,
     "task": false
    }
   },
   "outputs": [
    {
     "name": "stdout",
     "output_type": "stream",
     "text": [
      "Based on the student survey dataset, if a student has successfully passed the exam, there is a 81.33% percent chance that they have actually acquired the necessary qualifications from the course!\n"
     ]
    }
   ],
   "source": [
    "##### DO NOT CHANGE #####\n",
    "print(f'Based on the student survey dataset, if a student has successfully passed the exam, there is a {p_y_x_data*100:.2f}% percent '\n",
    "      f'chance that they have actually acquired the necessary qualifications from the course!')\n",
    "\n",
    "##### DO NOT CHANGE #####"
   ]
  },
  {
   "cell_type": "markdown",
   "metadata": {
    "deletable": false,
    "editable": false,
    "nbgrader": {
     "cell_type": "markdown",
     "checksum": "689de38987b6be04d4c57f7dae5045ef",
     "grade": false,
     "grade_id": "cell-77e077a9d4692b83",
     "locked": true,
     "schema_version": 3,
     "solution": false,
     "task": false
    }
   },
   "source": [
    "**🛠️ Task 5.6 (2 points).** Before continuing with the remaining execises, it makes sense to do some data exploration to get a proper overview of the data."
   ]
  },
  {
   "cell_type": "code",
   "execution_count": 159,
   "metadata": {
    "deletable": false,
    "nbgrader": {
     "cell_type": "code",
     "checksum": "c0235747e15da6027114e24fad6fb74d",
     "grade": false,
     "grade_id": "cell-ce06ed2db668e5db",
     "locked": false,
     "schema_version": 3,
     "solution": true,
     "task": false
    }
   },
   "outputs": [
    {
     "data": {
      "image/png": "[encoded data removed]",
      "text/plain": [
       "<Figure size 1500x1000 with 6 Axes>"
      ]
     },
     "metadata": {},
     "output_type": "display_data"
    }
   ],
   "source": [
    "# TASK: Plot the data distribution for every column in the student survey dataset to gain some basic \n",
    "#       understanding of the data.\n",
    "#       Additionally, fill in the mean values of each of the dataset columns to the ``mean_values`` \n",
    "#       dictionary.\n",
    "\n",
    "# HINT: Try to think of a way to do the visualization automatically. Try to generically iterate over the \n",
    "#       columns of the dataset. What are appropriate visualizations for continuous vs. discrete variables?\n",
    "#       What is a simple method to automatically decide whether an unknown column likely contains \n",
    "#       cont. vs. discrete data?\n",
    "\n",
    "mean_values: dict[str, float] = {\n",
    "    'hours_study': 0.0,\n",
    "    'exercise_points': 0.0,\n",
    "    'qualified': 0.0,\n",
    "    'passed': 0.0,\n",
    "    'lecture': 0.0,\n",
    "}\n",
    "\n",
    "# YOUR CODE HERE\n",
    "fig, ax = plt.subplots(2, 3, figsize=(15, 10))\n",
    "for i, col in enumerate(df.columns):\n",
    "    mean_values[col] = df[col].mean()\n",
    "    if df[col].nunique() < df.shape[0] * 0.1 and df[col].dtype in ['int64', 'object', 'bool']:\n",
    "        sns.countplot(data=df, x=col, ax=ax[i // 3][i % 3])\n",
    "    else:\n",
    "        sns.histplot(data=df, x=col, ax=ax[i // 3][i % 3], kde=True)\n",
    "        mean_values[col] = df[col].mean()"
   ]
  },
  {
   "cell_type": "code",
   "execution_count": 160,
   "metadata": {
    "deletable": false,
    "editable": false,
    "nbgrader": {
     "cell_type": "code",
     "checksum": "f59adae0c33f598647014ac81c5f0d1f",
     "grade": true,
     "grade_id": "test-5-6-exploration",
     "locked": true,
     "points": 2,
     "schema_version": 3,
     "solution": false,
     "task": false
    }
   },
   "outputs": [],
   "source": [
    "##### DO NOT CHANGE #####\n",
    "# ID: test-5-6-exploration - possible points: 2\n",
    "\n",
    "assert isinstance(mean_values, dict)\n",
    "assert len(mean_values) >= 5\n",
    "\n",
    "# NOTE: The hidden tests will compare the values in the mean_values dict with the \n",
    "#       true values\n",
    "\n",
    "\n",
    "##### DO NOT CHANGE #####"
   ]
  },
  {
   "cell_type": "markdown",
   "metadata": {
    "deletable": false,
    "editable": false,
    "nbgrader": {
     "cell_type": "markdown",
     "checksum": "598ba24860e1211f4c5d2692845f7a88",
     "grade": false,
     "grade_id": "cell-cf8e9d1dd6ba1a63",
     "locked": true,
     "schema_version": 3,
     "solution": false,
     "task": false
    }
   },
   "source": [
    "**practice makes perfect.** Since students provided addditional information during the survey, we can now use this information to approximate numerous other conditional probabilities as well. Intuitively, the amount of time spent studying makes sense as an significant indication of learning progress. Therefore in the following section we would like to investigate the conditional probability $P(y=\\mathrm{qualified}|t)$ of being qualified under the condition of having spent $t$ hours studying.\n",
    "\n"
   ]
  },
  {
   "cell_type": "code",
   "execution_count": 161,
   "metadata": {
    "deletable": false,
    "editable": false,
    "nbgrader": {
     "cell_type": "code",
     "checksum": "2c06aa3c06179eb92860a4359963d79a",
     "grade": false,
     "grade_id": "cell-a5460b37faa1d026",
     "locked": true,
     "schema_version": 3,
     "solution": false,
     "task": false
    }
   },
   "outputs": [
    {
     "data": {
      "text/plain": [
       "Text(0.5, 1.0, 'Qualification $y$')"
      ]
     },
     "execution_count": 161,
     "metadata": {},
     "output_type": "execute_result"
    },
    {
     "data": {
      "image/png": "[encoded data removed]",
      "text/plain": [
       "<Figure size 1000x500 with 2 Axes>"
      ]
     },
     "metadata": {},
     "output_type": "display_data"
    }
   ],
   "source": [
    "##### DO NOT CHANGE #####\n",
    "qualified = df['qualified']\n",
    "hours_study = df['hours_study']\n",
    "\n",
    "fig, (ax1, ax2) = plt.subplots(\n",
    "    ncols=2,\n",
    "    nrows=1,\n",
    "    figsize=(10, 5)\n",
    ")\n",
    "\n",
    "sns.histplot(hours_study, ax=ax1, binwidth=10)\n",
    "ax1.set_xlabel('$t$')\n",
    "ax1.set_title('Hours of study $t$')\n",
    "\n",
    "s = df['qualified'].value_counts(sort=False)\n",
    "sns.barplot(ax=ax2, x=s.index, y=s.values, order=s.index)\n",
    "ax2.bar_label(ax2.containers[0]);\n",
    "ax2.set_xlabel('$x$')\n",
    "ax2.set_title('Qualification $y$')\n",
    "\n",
    "##### DO NOT CHANGE #####"
   ]
  },
  {
   "cell_type": "markdown",
   "metadata": {
    "deletable": false,
    "editable": false,
    "nbgrader": {
     "cell_type": "markdown",
     "checksum": "8a4be283bbd7c692cdae0f65050def82",
     "grade": false,
     "grade_id": "cell-a323ae983b8ad3ce",
     "locked": true,
     "schema_version": 3,
     "solution": false,
     "task": false
    }
   },
   "source": [
    "**🛠️ Task 5.7 (2 points)** In this exercise we want to determine $P(y=\\mathrm{qualified}|t)$ for all possible values of $t \\in \\{0, \\dots, 400\\}$. Calculate the conditional probabilities from the student survey dataset and use them to fill the ``p_y_t`` array."
   ]
  },
  {
   "cell_type": "code",
   "execution_count": 162,
   "metadata": {
    "deletable": false,
    "nbgrader": {
     "cell_type": "code",
     "checksum": "964a04490a7314bfc1183ec7208e73ef",
     "grade": false,
     "grade_id": "cell-bdeb340bea8a3142",
     "locked": false,
     "schema_version": 3,
     "solution": true,
     "task": false
    }
   },
   "outputs": [
    {
     "name": "stderr",
     "output_type": "stream",
     "text": [
      "<>:39: SyntaxWarning: invalid escape sequence '\\m'\n",
      "<>:39: SyntaxWarning: invalid escape sequence '\\m'\n",
      "/var/folders/08/h7dqgln97rx04lcwp3lfcqb40000gn/T/ipykernel_43100/1574888231.py:39: SyntaxWarning: invalid escape sequence '\\m'\n",
      "  ax1.set_title('$P(x=\\mathrm{qualified}\\;|\\;t)$')\n"
     ]
    },
    {
     "data": {
      "text/plain": [
       "Text(0.5, 1.0, 'Number of students for $t$ hours of study')"
      ]
     },
     "execution_count": 162,
     "metadata": {},
     "output_type": "execute_result"
    },
    {
     "data": {
      "image/png": "[encoded data removed]",
      "text/plain": [
       "<Figure size 1000x500 with 2 Axes>"
      ]
     },
     "metadata": {},
     "output_type": "display_data"
    }
   ],
   "source": [
    "\n",
    "# This is an array that contains all possible integer values for the hours of study \n",
    "# (all possible *t* values) in ascending order.\n",
    "# [0 1 2 3 4 ... 400]\n",
    "ts: np.ndarray = np.arange(0, 400)\n",
    "    \n",
    "# TASK: Fill the array p_y_t with the empirically estimated conditional probabilities\n",
    "#       p(x=qualified|t) that a student has achieved the necessary qualifications \n",
    "#       under the condition of having studied *exactly* t hours.\n",
    "\n",
    "# HINT: If there are no students having exactly studied a given number of hours \n",
    "#       Leave the value at this position in the array at zero.\n",
    "\n",
    "# You may optionally also fill the array num_t with the number of students that studied *exactly* t hours.\n",
    "\n",
    "\n",
    "p_y_t: np.ndarray = np.zeros_like(ts, dtype=float)\n",
    "    \n",
    "num_t: np.ndarray = np.zeros_like(ts, dtype=float)\n",
    "    \n",
    "# YOUR CODE HERE\n",
    "for i, t in enumerate(ts):\n",
    "    num_t[i] = df[df['hours_study'] == t].shape[0]\n",
    "    if num_t[i] > 0:\n",
    "        p_y_t[i] = df[(df['hours_study'] == t) & (df['qualified'] == 1)].shape[0] / num_t[i]\n",
    "\n",
    "        \n",
    "# ~ plotting the solution\n",
    "\n",
    "fig, (ax1, ax2) = plt.subplots(\n",
    "    ncols=2,\n",
    "    nrows=1,\n",
    "    figsize=(10, 5)\n",
    ")\n",
    "\n",
    "# p(x=qualified) over different t values\n",
    "ax1.scatter(ts, p_y_t)\n",
    "ax1.set_ylabel('p')\n",
    "ax1.set_xlabel('t')\n",
    "ax1.set_title('$P(x=\\mathrm{qualified}\\;|\\;t)$')\n",
    "\n",
    "# number of students having studied exactly t hours\n",
    "ax2.scatter(ts, num_t)\n",
    "ax2.set_ylabel('num')\n",
    "ax2.set_xlabel('t')\n",
    "ax2.set_title('Number of students for $t$ hours of study')"
   ]
  },
  {
   "cell_type": "code",
   "execution_count": 163,
   "metadata": {
    "deletable": false,
    "editable": false,
    "nbgrader": {
     "cell_type": "code",
     "checksum": "314ad795c399d4ed26dcf13b6f4c0f37",
     "grade": true,
     "grade_id": "test-5-7-hours-study",
     "locked": true,
     "points": 3,
     "schema_version": 3,
     "solution": false,
     "task": false
    }
   },
   "outputs": [],
   "source": [
    "##### DO NOT CHANGE #####\n",
    "# ID: test-5-7-hours-study - possible points: 3\n",
    "\n",
    "assert isinstance(p_y_t, np.ndarray), 'solution must be array'\n",
    "assert len(p_y_t) == 400, 'solution is missing elements'\n",
    "assert np.max(p_y_t) > 0.1, 'solution is likely still empty'\n",
    "assert np.isclose(p_y_t[0], 0.0), 'solution is likely incorrect'\n",
    "\n",
    "# NOTE: The hidden tests will check some selected values from the array to match\n",
    "#       the correct values\n",
    "\n",
    "# HINT: Only the \"p_y_t\" array is relevant to the solution.\n",
    "\n",
    "\n",
    "##### DO NOT CHANGE #####"
   ]
  },
  {
   "cell_type": "markdown",
   "metadata": {
    "deletable": false,
    "editable": false,
    "nbgrader": {
     "cell_type": "markdown",
     "checksum": "8a1480a15ea92ec0027b053a41b10be6",
     "grade": false,
     "grade_id": "cell-d644cd5dbaa35a77",
     "locked": true,
     "schema_version": 3,
     "solution": false,
     "task": false
    }
   },
   "source": [
    "Unfortunately, the resulting plot doesn't seem to be very informative. The main problem is that there is simply not enough data available to properly justify an empirical approximation of these probabilities. For most exact values of $t$ there exists not even a single sample in the given student survey dataset to estimate from and there seem to be no more than 20 students for any value of $t$.\n",
    "\n",
    "So to improve these results we'd need a *much* larger dataset size, such that there exists a reasonable number of students for each possible number of hours $t$. *Alternatively*, we can slightly modify the problem. Instead of asking for the probability for each exact value of $t$ we can consider a certain range of values. So, for example, one could calculate the probability $P(x=\\mathrm{qualified}\\;|\\;\\tau \\leq t \\leq \\tau + 50)$ of having the necessary qualification when having studied between $\\tau$ and $\\tau + 50$ hours. In this formulation, a factor $\\times 50$ more samples are used for the empirical estimation of each probability."
   ]
  },
  {
   "cell_type": "markdown",
   "metadata": {
    "deletable": false,
    "editable": false,
    "nbgrader": {
     "cell_type": "markdown",
     "checksum": "0779d4ef6d976e3be41fa4d7a9eb048b",
     "grade": false,
     "grade_id": "cell-7a59e5326140d5bc",
     "locked": true,
     "schema_version": 3,
     "solution": false,
     "task": false
    }
   },
   "source": [
    "**🛠️ Task 5.8 (2 points)** In this exercise we want to determine $P(y=\\mathrm{qualified}|\\tau \\leq t \\leq \\tau + 50)$ for all possible values of $\\tau \\in \\{0, \\dots, 400\\}$. Here we use a possible range of values instead of exact values for $t$ to get better probability estimates. Calculate the conditional probabilities from the student survey dataset and use them to fill the ``p_y_tau`` array."
   ]
  },
  {
   "cell_type": "code",
   "execution_count": 164,
   "metadata": {
    "deletable": false,
    "nbgrader": {
     "cell_type": "code",
     "checksum": "0bc99cb12138a696c33c266b1b16b96d",
     "grade": false,
     "grade_id": "cell-a9717e93a1e26f13",
     "locked": false,
     "schema_version": 3,
     "solution": true,
     "task": false
    }
   },
   "outputs": [
    {
     "data": {
      "text/plain": [
       "Text(0.5, 1.0, '$P(x=\\\\mathrm{qualified}\\\\;|\\\\; \\\\tau < t < \\\\tau + 50)$')"
      ]
     },
     "execution_count": 164,
     "metadata": {},
     "output_type": "execute_result"
    },
    {
     "data": {
      "image/png": "[encoded data removed]",
      "text/plain": [
       "<Figure size 1000x500 with 1 Axes>"
      ]
     },
     "metadata": {},
     "output_type": "display_data"
    }
   ],
   "source": [
    "# This is an array that contains all possible integer values for the hours of study \n",
    "# (all possible *t* values) in ascending order.\n",
    "# [0 1 2 3 4 ... 400]\n",
    "ts: np.ndarray = np.arange(0, 400)\n",
    "    \n",
    "# TASK: Fill the array p_y_tau with the empirically estimated conditional probabilities\n",
    "#       p(x=qualified|tau <= t <= tau + 50) that a student has achieved the necessary qualifications \n",
    "#       under the condition of having studied between tau and tau+50 hours.\n",
    "\n",
    "p_y_tau: np.ndarray = np.zeros_like(ts, dtype=float)\n",
    "    \n",
    "# YOUR CODE HERE\n",
    "# YOUR CODE HERE\n",
    "for i, t in enumerate(ts):\n",
    "    num_t[i] = df[(df['hours_study'] <= t + 50 ) & (df['hours_study'] >= t)].shape[0]\n",
    "    if num_t[i] > 0:\n",
    "        p_y_tau[i] = df[(df['hours_study'] <= t + 50 ) & (df['hours_study'] >= t) & (df['qualified'] == 1)].shape[0] / np.sum(num_t[t])\n",
    "\n",
    "\n",
    "\n",
    "fig, ax = plt.subplots(\n",
    "    ncols=1,\n",
    "    nrows=1,\n",
    "    figsize=(10, 5)\n",
    ")\n",
    "\n",
    "# p(x=qualified) over different tau values\n",
    "ts_ = [t for i, t in enumerate(ts) if p_y_tau[i] > 0]\n",
    "ps_ = [p for i, p in enumerate(p_y_tau) if p_y_tau[i] > 0]\n",
    "ax.scatter(ts_, ps_, alpha=0.3)\n",
    "ax.plot(ts_, ps_)\n",
    "ax.set_ylabel('p')\n",
    "ax.set_xlabel(r'$\\tau$')\n",
    "ax.set_title(r'$P(x=\\mathrm{qualified}\\;|\\; \\tau < t < \\tau + 50)$')"
   ]
  },
  {
   "cell_type": "code",
   "execution_count": 165,
   "metadata": {
    "deletable": false,
    "editable": false,
    "nbgrader": {
     "cell_type": "code",
     "checksum": "324072f7d4e9d4663f3b9adeaadecb97",
     "grade": true,
     "grade_id": "test-5-8-smoothing",
     "locked": true,
     "points": 2,
     "schema_version": 3,
     "solution": false,
     "task": false
    }
   },
   "outputs": [],
   "source": [
    "##### DO NOT CHANGE #####\n",
    "# ID: test-5-8-smoothing - possible points: 2\n",
    "\n",
    "assert isinstance(p_y_tau, np.ndarray), 'solution must be array'\n",
    "assert len(p_y_tau) == 400, 'solution is missing elements'\n",
    "assert np.max(p_y_tau) > 0.1, 'solution is likely still empty'\n",
    "assert np.isclose(p_y_tau[0], 0.2), 'solution is likely incorrect'\n",
    "\n",
    "# NOTE: The hidden tests will test a selection of 5 random elements of the p_y_tau array \n",
    "#       against their true values.\n",
    "\n",
    "\n",
    "\n",
    "##### DO NOT CHANGE #####"
   ]
  },
  {
   "cell_type": "markdown",
   "metadata": {
    "deletable": false,
    "editable": false,
    "nbgrader": {
     "cell_type": "markdown",
     "checksum": "f5cd1681be9600fb7a6d3ddd2dd4f6e6",
     "grade": false,
     "grade_id": "cell-0e9d655bc6a60b86",
     "locked": true,
     "schema_version": 3,
     "solution": false,
     "task": false
    }
   },
   "source": [
    "The resulting plot is much more informative! Due to the increased sample size, there are no more missing values and we can clearly see a trend. For $\\tau = 0$ (study between 0 and 50 hours), the probability starts off relatively low and then rises more or less steadily for an increasing amount of studying until it saturates to almost $\\approx 100\\%$ for $\\tau > 300$."
   ]
  },
  {
   "cell_type": "markdown",
   "metadata": {
    "deletable": false,
    "editable": false,
    "nbgrader": {
     "cell_type": "markdown",
     "checksum": "dee7c45f80327a866cdc7fcfe650a13b",
     "grade": false,
     "grade_id": "cell-9a0a3a7a04d6a269",
     "locked": true,
     "schema_version": 3,
     "solution": false,
     "task": false
    }
   },
   "source": [
    "**flipping the condition.** In the previous section we have computed the conditional probability $P(x=\\mathrm{qualified} \\;|\\; t)$ of a student having obtained the necessary qualifications after studying for $t$ hours. In the following section we want to look at the reverse case $P(t \\;|\\; x=\\mathrm{qualified})$ which models the likelihood of having worked $t$ hours under the condition of belonging to the group of students that have obtained the necessary qualifcations. This might seem counterintuitive at first, but we'll see that this statistic will be useful to make future predictions."
   ]
  },
  {
   "cell_type": "markdown",
   "metadata": {
    "deletable": false,
    "editable": false,
    "nbgrader": {
     "cell_type": "markdown",
     "checksum": "1c4fe7f3426d9a5a5d2b71d40c34ad7a",
     "grade": false,
     "grade_id": "cell-e92b94e164446ba9",
     "locked": true,
     "schema_version": 3,
     "solution": false,
     "task": false
    }
   },
   "source": [
    "**🛠️ Task 5.9 (2 points)** In this task you'll have to compute the flipped conditional probabilities $P(t \\;|\\; x=\\mathrm{unqualified})$ and $P(t \\;|\\; x=\\mathrm{qualified})$ from the student survey dataset. Save the results for all values $t \\in \\{0, \\dots, 400\\}$ into the two variables ``p_t_y0`` and ``p_t_y1`` respectively."
   ]
  },
  {
   "cell_type": "code",
   "execution_count": 166,
   "metadata": {
    "deletable": false,
    "nbgrader": {
     "cell_type": "code",
     "checksum": "87a5916df39291ef57a688f0e414acc9",
     "grade": false,
     "grade_id": "cell-cfbc0a3b3372ce3a",
     "locked": false,
     "schema_version": 3,
     "solution": true,
     "task": false
    }
   },
   "outputs": [
    {
     "data": {
      "text/plain": [
       "Text(0.5, 1.0, '$P(t\\\\;|\\\\;y=\\\\mathrm{qualified})$')"
      ]
     },
     "execution_count": 166,
     "metadata": {},
     "output_type": "execute_result"
    },
    {
     "data": {
      "image/png": "[encoded data removed]",
      "text/plain": [
       "<Figure size 1000x500 with 2 Axes>"
      ]
     },
     "metadata": {},
     "output_type": "display_data"
    }
   ],
   "source": [
    "# This is an array that contains all possible integer values for the hours of study \n",
    "# (all possible *t* values) in ascending order.\n",
    "# [0 1 2 3 4 ... 400]\n",
    "ts: np.ndarray = np.arange(0, 400)\n",
    "\n",
    "p_t_y0: np.ndarray = np.zeros_like(ts, dtype=float)\n",
    "p_t_y1: np.ndarray = np.zeros_like(ts, dtype=float)\n",
    "\n",
    "num_0 = df[df['qualified'] == 0].shape[0]  # unqualified\n",
    "num_1 = df[df['qualified'] == 1].shape[0]  # qualified\n",
    "\n",
    "for i, t in enumerate(ts):\n",
    "    if num_0 > 0:\n",
    "        p_t_y0[i] = df[(df['hours_study'] == t) & (df['qualified'] == 0)].shape[0] / num_0\n",
    "    if num_1 > 0:\n",
    "        p_t_y1[i] = df[(df['hours_study'] == t) & (df['qualified'] == 1)].shape[0] / num_1\n",
    "\n",
    "fig_t_y, (ax_y0, ax_y1) = plt.subplots(\n",
    "    ncols=2,\n",
    "    nrows=1,\n",
    "    figsize=(10, 5)\n",
    ")\n",
    "\n",
    "# p(t | y=unqualified)\n",
    "ax_y0.plot(ts, p_t_y0, color='tab:blue')\n",
    "ax_y0.set_ylabel(r'$p$')\n",
    "ax_y0.set_xlabel(r'$t$')\n",
    "ax_y0.set_title(r'$P(t\\;|\\;y=\\mathrm{unqualified})$')\n",
    "\n",
    "# p(t | y=qualified)\n",
    "ax_y1.plot(ts, p_t_y1, color='tab:orange')\n",
    "ax_y1.set_ylabel(r'$p$')\n",
    "ax_y1.set_xlabel(r'$t$')\n",
    "ax_y1.set_title(r'$P(t\\;|\\;y=\\mathrm{qualified})$')"
   ]
  },
  {
   "cell_type": "code",
   "execution_count": 167,
   "metadata": {
    "deletable": false,
    "editable": false,
    "nbgrader": {
     "cell_type": "code",
     "checksum": "32e43ad3865903ad612a83b93869ab34",
     "grade": true,
     "grade_id": "test-5-9-conditional-qualified",
     "locked": true,
     "points": 1,
     "schema_version": 3,
     "solution": false,
     "task": false
    }
   },
   "outputs": [],
   "source": [
    "##### DO NOT CHANGE #####\n",
    "# ID: test-5-9-conditional-qualified - possible points: 1\n",
    "\n",
    "assert isinstance(p_t_y1, np.ndarray), 'solution must be array'\n",
    "assert len(p_t_y1) == 400, 'solution is missing elements'\n",
    "assert np.isclose(np.sum(p_t_y1), 1.0), 'solution is not a proper density distribution!'\n",
    "\n",
    "# NOTE: The hidden tests will check the statistical properties of the value arrays (mean, variance).\n",
    "\n",
    "\n",
    "##### DO NOT CHANGE #####"
   ]
  },
  {
   "cell_type": "code",
   "execution_count": 168,
   "metadata": {
    "deletable": false,
    "editable": false,
    "nbgrader": {
     "cell_type": "code",
     "checksum": "06217a8d56c2d401d1670d03aed5b86f",
     "grade": true,
     "grade_id": "test-5-9-conditional-unqualified",
     "locked": true,
     "points": 1,
     "schema_version": 3,
     "solution": false,
     "task": false
    }
   },
   "outputs": [],
   "source": [
    "##### DO NOT CHANGE #####\n",
    "# ID: test-5-9-conditional-unqualified - possible points: 1\n",
    "\n",
    "assert isinstance(p_t_y0, np.ndarray), 'solution must be array'\n",
    "assert len(p_t_y0) == 400, 'solution is missing elements'\n",
    "assert np.isclose(np.sum(p_t_y0), 1.0), 'solution is not a proper density distribution!'\n",
    "\n",
    "\n",
    "##### DO NOT CHANGE #####"
   ]
  },
  {
   "cell_type": "markdown",
   "metadata": {
    "deletable": false,
    "editable": false,
    "nbgrader": {
     "cell_type": "markdown",
     "checksum": "01f6dd01bc1085d3d585a9e7c0558e1e",
     "grade": false,
     "grade_id": "cell-50144eb78ec4632c",
     "locked": true,
     "schema_version": 3,
     "solution": false,
     "task": false
    }
   },
   "source": [
    "The first thing we notice here is that we encounter somewhat the same problem as in the previous section. For some values of $t$ the probability is zero since there weren't any students who reported that exact study time. However, it is still possible to recognize the overall shape of the distributions - especially in case of the second plot $P(t\\;|\\;y=\\mathrm{qualified})$, since it is based on more overall samples. In this case, we can vaguely recognize the shape as a [Gaussian distribution](https://en.wikipedia.org/wiki/Normal_distribution).\n",
    "\n",
    "**Curve fitting.** Based on this insight, an option to obtain a smoother probability distribution is to simply fit the existing data to a continuous Gaussian. Based on the formula for the Gaussian distribution\n",
    "\n",
    "$$\n",
    "p(t;\\mu,\\sigma) \\sim \\frac{1}{\\sqrt{2 \\pi \\sigma^2}} \\mathrm{exp}(\\frac{- (t - \\mu)^2}{2 \\sigma^2})\n",
    "$$\n",
    "\n",
    "this only requires to determine the *mean* $\\mu$ and the *standard deviation* $\\sigma$ from the given data."
   ]
  },
  {
   "cell_type": "markdown",
   "metadata": {
    "deletable": false,
    "editable": false,
    "nbgrader": {
     "cell_type": "markdown",
     "checksum": "b7fd318ad62109acd482682acfdb0a48",
     "grade": false,
     "grade_id": "cell-0a64ce09be3b3fd6",
     "locked": true,
     "schema_version": 3,
     "solution": false,
     "task": false
    }
   },
   "source": [
    "**🛠️ Task 5.10 (2 points)** For this task, you'll have to implement the two functions ``gauss_y0`` and ``gauss_y1`` which should implement Gaussian distributions fitting the conditional probabilities $P(t \\;|\\; y=\\mathrm{unqualified})$ and $P(t \\;|\\; y=\\mathrm{qualified})$, respectively. To do this, determine $\\sigma$ and $\\mu$ in each case and use the given formula to return the probability density."
   ]
  },
  {
   "cell_type": "code",
   "execution_count": 169,
   "metadata": {
    "deletable": false,
    "nbgrader": {
     "cell_type": "code",
     "checksum": "679955fb2a7ce234be1c41fe7853b23e",
     "grade": false,
     "grade_id": "cell-d82bb1959a8e402c",
     "locked": false,
     "schema_version": 3,
     "solution": true,
     "task": false
    }
   },
   "outputs": [
    {
     "data": {
      "image/png": "[encoded data removed]",
      "text/plain": [
       "<Figure size 1000x500 with 2 Axes>"
      ]
     },
     "execution_count": 169,
     "metadata": {},
     "output_type": "execute_result"
    }
   ],
   "source": [
    "# TASK: Since the direct estimations of the conditional probabilities p(t|y=0) and p(t|y=1) have \n",
    "#       a lot of missing values we want to fit gaussian distributions instead. The two functions \n",
    "#       below should be implemented to return the probability density value for these Gaussian \n",
    "#       distributions for any continuous value of t.\n",
    "\n",
    "def gauss_y0(t: float) -> float:\n",
    "    \n",
    "    # YOUR CODE HERE\n",
    "    mean = np.mean(df[df['qualified'] == 0]['hours_study'])\n",
    "    std = np.std(df[df['qualified'] == 0]['hours_study'])\n",
    "    coeff = 1 / (std * np.sqrt(2 * np.pi))\n",
    "    exponent = -0.5 * ((t - mean) / std) ** 2\n",
    "    return coeff * np.exp(exponent)\n",
    "    \n",
    "    \n",
    "def gauss_y1(t: float) -> float:\n",
    "    \n",
    "    # YOUR CODE HERE\n",
    "    mean = np.mean(df[df['qualified'] == 1]['hours_study'])\n",
    "    std = np.std(df[df['qualified'] == 1]['hours_study'])\n",
    "    coeff = 1 / (std * np.sqrt(2 * np.pi))\n",
    "    exponent = -0.5 * ((t - mean) / std) ** 2\n",
    "    return coeff * np.exp(exponent)\n",
    "\n",
    "    \n",
    "\n",
    "fig = copy.deepcopy(fig_t_y)\n",
    "ax_y0, ax_y1 = fig.get_axes()\n",
    "\n",
    "df_y0 = df[df['qualified'] == 0]\n",
    "df_y1 = df[df['qualified'] == 1]\n",
    "\n",
    "# p(t | y=unqualified)\n",
    "values_y0 = [gauss_y0(t) for t in ts]\n",
    "ax_y0.plot(ts, values_y0, color='blue')\n",
    "ax_y0.fill_between(ts, values_y0, color='blue')\n",
    "\n",
    "avg_y0, _ = quad(lambda t: t * gauss_y0(t), -np.inf, np.inf)\n",
    "var_y0, _ = quad(lambda t: (t - avg_y0)**2 * gauss_y0(t), -np.inf, np.inf)\n",
    "std_y0 = np.sqrt(var_y0)\n",
    "\n",
    "ax_y0.axvline(avg_y0, label=r'$\\mu$' + f' = {avg_y0:.2f} hrs', color='black', ls='-', zorder=10)\n",
    "ax_y0.hlines(np.mean(ax_y0.get_ylim()), avg_y0 - std_y0, avg_y0 + std_y0, \n",
    "             label=r'$\\sigma$' + f' = {std_y0:.2f} hrs', color='black', ls='--')\n",
    "ax_y0.axvline(np.mean(df_y0['hours_study']))\n",
    "ax_y0.legend(loc='upper right')\n",
    "ax_y0.set_title(r'$P(t\\;|\\;y=\\mathrm{unqualified})$')\n",
    "\n",
    "# p(t | y=qualified)\n",
    "values_y1 = [gauss_y1(t) for t in ts]\n",
    "ax_y1.plot(ts, values_y1, color='red')\n",
    "ax_y1.fill_between(ts, values_y1, color='red')\n",
    "\n",
    "avg_y1, _ = quad(lambda t: t * gauss_y1(t), -np.inf, np.inf)\n",
    "var_y1, _ = quad(lambda t: (t - avg_y1)**2 * gauss_y1(t), -np.inf, np.inf)\n",
    "std_y1 = np.sqrt(var_y1)\n",
    "\n",
    "ax_y1.axvline(avg_y1, label=r'$\\mu$' + f' = {avg_y1:.2f} hrs', color='black', ls='-')\n",
    "ax_y1.hlines(np.mean(ax_y1.get_ylim()), avg_y1 - std_y1, avg_y1 + std_y1, \n",
    "             label=r'$\\sigma$' + f' = {std_y1:.2f} hrs', color='black', ls='--')\n",
    "ax_y1.legend(loc='upper right')\n",
    "\n",
    "fig"
   ]
  },
  {
   "cell_type": "code",
   "execution_count": 170,
   "metadata": {
    "deletable": false,
    "editable": false,
    "nbgrader": {
     "cell_type": "code",
     "checksum": "cdf19c601c6e1b2625e051eb8c909e83",
     "grade": true,
     "grade_id": "test-5-10-curve-fitting",
     "locked": true,
     "points": 2,
     "schema_version": 3,
     "solution": false,
     "task": false
    }
   },
   "outputs": [],
   "source": [
    "##### DO NOT CHANGE #####\n",
    "# ID: test-5-10-curve-fitting - possible points: 2\n",
    "\n",
    "assert callable(gauss_y0), 'solution must be callable function'\n",
    "assert np.isclose(quad(gauss_y0, -1000, 1000)[0], 1.0), 'not a proper probability density function'\n",
    "value_y0 = gauss_y0(200)\n",
    "assert 0.005 > value_y0 > 0.002, 'fitted function likely incorrect'\n",
    "\n",
    "assert callable(gauss_y1), 'solution must be callable function'\n",
    "assert np.isclose(quad(gauss_y1, -1000, 1000)[0], 1.0), 'not a proper probability density function'\n",
    "value_y1 = gauss_y1(200)\n",
    "assert 0.008 > value_y1 > 0.004, 'fitted function likely incorrect'\n",
    "\n",
    "# NOTE: The hidden tests will evaluate the statistical attributes of the fitted gaussian distributions \n",
    "#       (mean and standard deviation) and will compare them to the expected values.\n",
    "\n",
    "\n",
    "##### DO NOT CHANGE #####"
   ]
  },
  {
   "cell_type": "markdown",
   "metadata": {
    "deletable": false,
    "editable": false,
    "nbgrader": {
     "cell_type": "markdown",
     "checksum": "43d9ff3d1b39e89a82662de0b423abe6",
     "grade": false,
     "grade_id": "cell-d20627b99ea7be54",
     "locked": true,
     "schema_version": 3,
     "solution": false,
     "task": false
    }
   },
   "source": [
    "From these results we can see that the groups of \"qualified\" and \"unqualified\" students seem to slightly differ in their studying behavior. On average, an unqualified student spends about ~50 hours less studying. Additionally, the highest reported study time in the group of unqualified students is ~270 hours while for the qualified students this is ~350. Generally, these results support the inuitive interpretation that the longer a student studies, the higher the chance that they obtain the necessary qualifications.\n",
    "\n",
    "In the next section, we can use statistical differences like these to not only analyze past data but to build a predictor model for future data points as well."
   ]
  },
  {
   "cell_type": "markdown",
   "metadata": {
    "deletable": false,
    "editable": false,
    "nbgrader": {
     "cell_type": "markdown",
     "checksum": "308e4700b73f0e87f79947e7d7ec9688",
     "grade": false,
     "grade_id": "cell-35ea3e838e87e13c",
     "locked": true,
     "schema_version": 3,
     "solution": false,
     "task": false
    }
   },
   "source": [
    "## 5.3 Naive Bayes Estimator\n",
    "\n",
    "At the end of the previous section, we've established that amongst the two groups / \"classes\" of students we can find differences regarding their statistical properties. In this section, we want to use these insights to not only analyze past data, but to build an *estimator* model for future data.\n",
    "\n",
    "**Predicting exam outcomes.** Previously, we investigated the question of a student's true qualifications $y = \\{\\mathrm{qualified}, \\mathrm{unqualified} \\}$. Arguably, while this is an important question from the perspective of a *professor*, a *student* likely cares more about simply passing the exam. Therefore, we'll try to build a model which predicts $x = \\{ \\mathrm{pass}, \\mathrm{fail} \\}$ whether a student will pass or fail based on previously available information, such as the number of hours spent studying, the points of the exercise and lecture attendence.\n",
    "\n",
    "**Naive Bayes estimation.** There are various different machine learning methods available to solve the aforementioned classification task, but the one which we'll be focusing on is a [Naive Bayes Classifier](https://en.wikipedia.org/wiki/Naive_Bayes_classifier). To understand the Naive Bayes classifier, we can assume a generic classification problem with $k$ possible classes $C_k$. To make this classification, we have a concrete vector of observations $\\mathbf{x} = [x_1 \\; x_2 \\; x_3]$. We can pose the classification problem as a probabilistic problem in which we want to find the conditional probability\n",
    "\n",
    "$$\n",
    "p(C_k \\;|\\; \\mathbf{x}) = p(C_k \\;|\\; x_1,x_2,x_3)\n",
    "$$\n",
    "\n",
    "of classifying as $C_k$ when having observed $\\mathbf{x}$. Given these probabilities, we can then determine the predicted class\n",
    "\n",
    "$$\n",
    "k_{\\mathrm{pred}} = \\mathrm{argmax}_{k} p(C_k \\;|\\; \\mathbf{x})\n",
    "$$\n",
    "\n",
    "as the one with the highest probability given the specific observation $\\mathbf{x}$. To determine this conditional probability $p(C_k \\;|\\; \\mathbf{x})$ we can apply *Bayes Rule*:\n",
    "\n",
    "$$\n",
    "p(C_k \\;|\\; \\mathbf{x}) = \\frac{p(C_k) p(\\mathbf{x} \\;|\\; C_k)}{p(\\mathbf{x})}\n",
    "$$\n",
    "\n",
    "To determine the argmax we can furthermore drop the denominator $p(\\mathbf{x})$ of this expression as it is the same value for all the different classes with respect to the same observation. Usually, the term $p(\\mathbf{x} \\;|\\; C_k)$ would be a complex expression which would not only have to take into account the conditional independence of each observation regarding the class but also the interdependence between the observations. This is where the *naive* part of the method comes into play: We will simply assume that all the features of our observation $\\mathbf{x}$ are themselves mutually *independent* of each other. Under this assumption, the term can be simplified like this:\n",
    "\n",
    "$$\n",
    "p(C_k \\;|\\; \\mathbf{x}) \\sim p(C_k) \\cdot p(x_1 \\;|\\; C_k) \\cdot p(x_2 \\;|\\; C_k) \\cdot p(x_3 \\;|\\; C_k)\n",
    "$$\n",
    "\n",
    "In the end, this formula only requires the prior probabilitiy $p(C_k)$ of each class and the independent conditional probability of each individual observation. \n",
    "\n",
    "---\n",
    "\n",
    "For a more in-depth understanding of the Naive Bayes Classifier, you can watch the following two videos which explain the topic in more detail:\n",
    "\n",
    "- [Naive Bayes, Clearly Explained](https://www.youtube.com/watch?v=O2L2Uv9pdDA)\n",
    "- [Gaussian Naive Bayes, Clearly Explained](https://www.youtube.com/watch?v=H3EjCKtlVog)"
   ]
  },
  {
   "cell_type": "code",
   "execution_count": 171,
   "metadata": {
    "deletable": false,
    "editable": false,
    "nbgrader": {
     "cell_type": "code",
     "checksum": "fa249653fc9e23aeb754d3bb3fede5fc",
     "grade": false,
     "grade_id": "cell-5bfc053b0d4ac9d4",
     "locked": true,
     "schema_version": 3,
     "solution": false,
     "task": false
    }
   },
   "outputs": [
    {
     "data": {
      "image/jpeg": "[encoded data removed]",
      "text/html": [
       "\n",
       "        <iframe\n",
       "            width=\"800\"\n",
       "            height=\"500\"\n",
       "            src=\"https://www.youtube.com/embed/O2L2Uv9pdDA\"\n",
       "            frameborder=\"0\"\n",
       "            allowfullscreen\n",
       "            \n",
       "        ></iframe>\n",
       "        "
      ],
      "text/plain": [
       "<IPython.lib.display.YouTubeVideo at 0x304796780>"
      ]
     },
     "execution_count": 171,
     "metadata": {},
     "output_type": "execute_result"
    }
   ],
   "source": [
    "##### DO NOT CHANGE #####\n",
    "from IPython.display import YouTubeVideo\n",
    "YouTubeVideo('O2L2Uv9pdDA', width=800, height=500)\n",
    "\n",
    "##### DO NOT CHANGE #####"
   ]
  },
  {
   "cell_type": "code",
   "execution_count": 172,
   "metadata": {
    "deletable": false,
    "editable": false,
    "nbgrader": {
     "cell_type": "code",
     "checksum": "6eb0100f6bd92e8d276946fce7ce55a4",
     "grade": false,
     "grade_id": "cell-92c65f39f15247bf",
     "locked": true,
     "schema_version": 3,
     "solution": false,
     "task": false
    }
   },
   "outputs": [
    {
     "data": {
      "image/jpeg": "[encoded data removed]",
      "text/html": [
       "\n",
       "        <iframe\n",
       "            width=\"800\"\n",
       "            height=\"500\"\n",
       "            src=\"https://www.youtube.com/embed/H3EjCKtlVog\"\n",
       "            frameborder=\"0\"\n",
       "            allowfullscreen\n",
       "            \n",
       "        ></iframe>\n",
       "        "
      ],
      "text/plain": [
       "<IPython.lib.display.YouTubeVideo at 0x304796510>"
      ]
     },
     "execution_count": 172,
     "metadata": {},
     "output_type": "execute_result"
    }
   ],
   "source": [
    "##### DO NOT CHANGE #####\n",
    "from IPython.display import YouTubeVideo\n",
    "YouTubeVideo('H3EjCKtlVog', width=800, height=500)\n",
    "\n",
    "##### DO NOT CHANGE #####"
   ]
  },
  {
   "cell_type": "markdown",
   "metadata": {
    "deletable": false,
    "editable": false,
    "nbgrader": {
     "cell_type": "markdown",
     "checksum": "61fb2fbc75ace6a632edecf6144c7565",
     "grade": false,
     "grade_id": "cell-db46dbd0af1170a3",
     "locked": true,
     "schema_version": 3,
     "solution": false,
     "task": false
    }
   },
   "source": [
    "**Types of observations.** There are basically two different types of observations on which the NaiveBayes estimator can base its predictions: *continuous* and *categorical* variables. In our example of predicting the exam outcome, we can use the students' other survey questions as observations. An example for a continuous observation is the number of hours spent studying - theoretically, a student might answer with any real number and there is a continuous sprectrum of possible answers. A categorical observation on the other hand only has a discrete set of possible answers. The question of whether a student has regularly attended the lectures or not, for example, can only be answered with either \"yes\" or \"no\". For the implementation of the NaiveBayes classifier, both of these will have to be treated differently. However, in both cases we want to obtain some function $p(x \\;|\\; C_k)$ that returns the likelihood for an observation $x$.\n",
    "\n",
    "**Gaussian fitting for continuous data.** For a continuous variable (observation), we want to model this likelihood by fitting the parameters of a guassian distribution to approximately model the probability density function of the variable. More specifically, we want to fit a *family* of multiple gaussian distributions to model the conditional probabilities for each possible target class separately. Given $K$ possible classes, we need to fit exactly $K$ different gaussion distributions $p(x \\;|\\; C_k) \\sim \\mathcal{N}(\\mu_k, \\sigma_k)$."
   ]
  },
  {
   "cell_type": "markdown",
   "metadata": {
    "deletable": false,
    "editable": false,
    "nbgrader": {
     "cell_type": "markdown",
     "checksum": "712d9515c974a49588a298c68ab584c5",
     "grade": false,
     "grade_id": "cell-417b1f5ed0b040c6",
     "locked": true,
     "schema_version": 3,
     "solution": false,
     "task": false
    }
   },
   "source": [
    "**🛠️ Task 5.11 (4 points)** For this task, you'll have to implement a function ``fit_gaussian``, which given a dataset of observations of a single continuous variable and corresponding target classes, fits a family of gaussian distributions to $p(x \\;|\\; C_k)$. Specifically, this function is itself supposed to return a function ``p(x: float, y: int) -> float`` which implements this conditional probability density function for a specific continuous observation value ``x`` and a target class ``y``."
   ]
  },
  {
   "cell_type": "code",
   "execution_count": 173,
   "metadata": {
    "deletable": false,
    "nbgrader": {
     "cell_type": "code",
     "checksum": "f9b29399f7c511c2ef4a827449952aee",
     "grade": false,
     "grade_id": "cell-08ca74ce77d2b306",
     "locked": false,
     "schema_version": 3,
     "solution": true,
     "task": false
    }
   },
   "outputs": [],
   "source": [
    "import typing as t\n",
    "\n",
    "# TASK: This function accepts two arrays which constitute a dataset on which to fit the gaussian\n",
    "#       distributions. The first array \"xs\" contains the continuous / float observations and the \n",
    "#       second array \"ys\" contains the targets for the conditioning. The function should then \n",
    "#       return another function p(x, y) which outputs the probability DENSITY value of a \n",
    "#       gaussian distribution - but a different one depending on the value of the second parameter \n",
    "#       y.\n",
    "\n",
    "# HINT: You can simply define a local function inside of another function by using the \"def\"\n",
    "#       statement and then return that local function.\n",
    "\n",
    "# HINT: First think about how to generically obtain all the possible target values that appear\n",
    "#       throughout the target array \"ys\". The final function p(x, y) must implement a different \n",
    "#       gaussian for all of them.\n",
    "\n",
    "# HINT: To fit a Gaussian distribution to data, simply estimate the mean and standard deviation and plug them\n",
    "#       into the probability density function of a Gaussian.\n",
    "\n",
    "def fit_gaussian(xs: np.ndarray,\n",
    "                 ys: np.ndarray,\n",
    "                 ) -> t.Callable[[float, int], float]:\n",
    "    \"\"\"\n",
    "    This function is supposed to fit a family of conditional Gaussian probability density functions\n",
    "    based on a given array of observations ``xs`` of shape (num_elements, ) and a given array of the associated \n",
    "    categorical (integer) targets ``ys`` of the shape (num_elements, ).\n",
    "    \n",
    "    ``xs`` contains multiple observations of a single continuous variable.\n",
    "    \n",
    "    This function should itself return a function ``p(x: float, y: int) -> float`` which receives the \n",
    "    observation value x as the first parameter and the target value y as the second parameter and the \n",
    "    function should implement the evaluation of the conditional Gaussian p(x|y) for the \n",
    "    given combination.\n",
    "    \n",
    "    :param xs: array of shape (num_elements, ) - continuous / float observations\n",
    "    :param ys: array of shape (num_elements, ) - categorical / integer targets\n",
    "    \n",
    "    :returns: callable function p(x|y)\n",
    "    \"\"\"\n",
    "    classes = np.unique(ys)\n",
    "    params = {} \n",
    "    \n",
    "    for y in classes:\n",
    "        x_vals = xs[ys == y]\n",
    "        mean = np.mean(x_vals)\n",
    "        std = np.std(x_vals, ddof=0)  \n",
    "        params[y] = (mean, std if std > 0 else 1e-8)  # \n",
    "\n",
    "    def p(x: float, y: int) -> float:\n",
    "        mean, std = params[y]\n",
    "        coeff = 1 / (std * np.sqrt(2 * np.pi))\n",
    "        exponent = -0.5 * ((x - mean) / std) ** 2\n",
    "        return coeff * np.exp(exponent)\n",
    "\n",
    "    return p\n",
    "\n",
    "    \n",
    "\n",
    "\n"
   ]
  },
  {
   "cell_type": "code",
   "execution_count": 174,
   "metadata": {
    "deletable": false,
    "editable": false,
    "nbgrader": {
     "cell_type": "code",
     "checksum": "9dfb1f66fb5b56ff0bb4da9911ee0462",
     "grade": true,
     "grade_id": "test-5-11-gaussian-fit",
     "locked": true,
     "points": 4,
     "schema_version": 3,
     "solution": false,
     "task": false
    }
   },
   "outputs": [],
   "source": [
    "##### DO NOT CHANGE #####\n",
    "# ID: test-5-11-gaussian-fit - possible points: 4\n",
    "\n",
    "\n",
    "xs = np.array([1, 2, 3, 3, 4], dtype=float)\n",
    "ys = np.array([0, 0, 0, 1, 1], dtype=int)\n",
    "\n",
    "p = fit_gaussian(xs, ys)\n",
    "assert callable(p), 'fit is not a callable function'\n",
    "assert isinstance(p(0, 0), float), 'function output is not a float'\n",
    "p_int, _ = quad(lambda x: p(x, 0), -100, 100) # integral over the whole distribution\n",
    "assert np.isclose(p_int, 1.0), 'fitted function not a proper density function'\n",
    "p_mean, _ = quad(lambda x: x * p(x, 0), -100, 100) # mean value for the distribution (1st moment)\n",
    "assert np.isclose(p_mean, 2.0), 'gaussian has incorrect mean value'\n",
    "\n",
    "# NOTE: The hidden tests will perform similar tests, but for a more complex example, which \n",
    "#       includes > 2 possible target values.\n",
    "\n",
    "\n",
    "##### DO NOT CHANGE #####"
   ]
  },
  {
   "cell_type": "markdown",
   "metadata": {
    "deletable": false,
    "editable": false,
    "nbgrader": {
     "cell_type": "markdown",
     "checksum": "2aa6af072e5635da39157825a2a3c948",
     "grade": false,
     "grade_id": "cell-0ee4d8594d48e9da",
     "locked": true,
     "schema_version": 3,
     "solution": false,
     "task": false
    }
   },
   "source": [
    "**Categorical fit.** Categorical observations are the alternative to continuous observations. A categorical variable (observation) only has a discrete set of possible values that can possibly be observed. Therefore, the categorical fit is much easier to model since one only has to determine a single probability value for all possible combinations of discrete target and discrete observation values."
   ]
  },
  {
   "cell_type": "markdown",
   "metadata": {
    "deletable": false,
    "editable": false,
    "nbgrader": {
     "cell_type": "markdown",
     "checksum": "4844e865ee625dd8cc06bd48d7530eed",
     "grade": false,
     "grade_id": "cell-ec0cec4f10bd78d6",
     "locked": true,
     "schema_version": 3,
     "solution": false,
     "task": false
    }
   },
   "source": [
    "**🛠️ Task 5.12 (4 points)** For this task, you'll have to implement a function ``fit_categorical``, which given a dataset of observations and corresponding target classes, fits a family of conditional probability values $p(x \\;|\\; C_k)$. Specifically, this function is itself supposed to return a function ``p(x: int, y: int) -> float`` which implements this conditional probability density function for a specific discrete observation value ``x`` and a discrete target class ``y``."
   ]
  },
  {
   "cell_type": "code",
   "execution_count": 175,
   "metadata": {
    "deletable": false,
    "nbgrader": {
     "cell_type": "code",
     "checksum": "7f6902485f0fab07ef2a2f77461e429d",
     "grade": false,
     "grade_id": "cell-914053ae87f91bae",
     "locked": false,
     "schema_version": 3,
     "solution": true,
     "task": false
    }
   },
   "outputs": [],
   "source": [
    "# TASK: This function accepts two arrays which constitute a dataset on which to determine the discrete\n",
    "#       distributions. The first array \"xs\" contains the discrete integer observations and the \n",
    "#       second array \"ys\" contains the discrete integer targets for the conditioning. The function should then \n",
    "#       return another function p(x, y) which outputs the normalized probability of obtaining the observation\n",
    "#       x given the class y.\n",
    "\n",
    "# HINT: You can simply define a local function inside of another function by using the \"def\"\n",
    "#       statement and then return that local function.\n",
    "\n",
    "# HINT: First think about how to generically obtain all the possible discrete values that appear\n",
    "#       throughout the target array \"ys\" and the observation array \"xs\".\n",
    "\n",
    "\n",
    "def fit_categorical(xs: np.ndarray,\n",
    "                    ys: np.ndarray,\n",
    "                    ) -> t.Callable[[int], float]:\n",
    "    \"\"\"\n",
    "    This function is supposed to fit a family of conditional probability values \n",
    "    based on a given array of categorical (integer) observations ``xs`` of shape (num_elements, ) \n",
    "    and a given array of the associated categorical (integer) targets ``ys`` of the shape (num_elements, ).\n",
    "    \n",
    "    This function should itself return a function ``p(x: int, y: int) -> float`` which receives the \n",
    "    observation value x as the first parameter and the target value y as the second parameter and the \n",
    "    function should implement the evaluation of the conditional gaussion p(x|y) for the \n",
    "    given combination.\n",
    "    \n",
    "    :param xs: array of shape (num_elements, ) - categorical / integer observations\n",
    "    :param ys: array of shape (num_elements, ) - categorical / integer targets\n",
    "    \n",
    "    :returns: callable function p(x|y)\n",
    "    \n",
    "    \"\"\"\n",
    "    # YOUR CODE HERE\n",
    "    classes = np.unique(ys)\n",
    "    params: dict[int, dict[int, float]] = {}\n",
    "\n",
    "    for y in classes:\n",
    "        x_vals = xs[ys == y]\n",
    "        unique, counts = np.unique(x_vals, return_counts=True)\n",
    "        total = counts.sum()\n",
    "\n",
    "\n",
    "        probs = counts / total\n",
    "        params[y] = dict(zip(unique.tolist(), probs.tolist()))\n",
    "\n",
    "    def p(x: int, y: int) -> float:\n",
    "        if y not in params:\n",
    "            return 0.0\n",
    "\n",
    "        return params[y].get(x, 0.0)\n",
    "\n",
    "    return p\n"
   ]
  },
  {
   "cell_type": "code",
   "execution_count": 176,
   "metadata": {
    "deletable": false,
    "editable": false,
    "nbgrader": {
     "cell_type": "code",
     "checksum": "32def5c7cf685eb63ea719c880a37d71",
     "grade": true,
     "grade_id": "test-5-12-categorical-fit",
     "locked": true,
     "points": 4,
     "schema_version": 3,
     "solution": false,
     "task": false
    }
   },
   "outputs": [],
   "source": [
    "##### DO NOT CHANGE #####\n",
    "# ID: test-5-12-categorical-fit - possible points: 4\n",
    "\n",
    "\n",
    "xs = np.array([0, 0, 0, 1, 0, 0, 1, 1], dtype=int)\n",
    "ys = np.array([0, 0, 0, 0, 1, 1, 1, 1], dtype=int)\n",
    "\n",
    "p = fit_categorical(xs, ys)\n",
    "assert callable(p), 'fit is not a callable function'\n",
    "assert isinstance(p(0, 0), float), 'function output is not a float'\n",
    "p_sum = p(0, 0) + p(1, 0)\n",
    "assert np.isclose(p_sum, 1.0), 'fitted function not a proper density function - must add to 1'\n",
    "assert np.isclose(p(1, 0), 0.25)\n",
    "\n",
    "\n",
    "# NOTE: The hidden tests will perform similar tests, but for a more complex example, which \n",
    "#       includes > 2 possible target values and observations.\n",
    "\n",
    "\n",
    "##### DO NOT CHANGE #####"
   ]
  },
  {
   "cell_type": "code",
   "execution_count": 177,
   "metadata": {
    "deletable": false,
    "editable": false,
    "nbgrader": {
     "cell_type": "code",
     "checksum": "65e2f850778bf04f813946ba763db74b",
     "grade": false,
     "grade_id": "cell-1bd512e3e592e3b9",
     "locked": true,
     "schema_version": 3,
     "solution": false,
     "task": false
    }
   },
   "outputs": [],
   "source": [
    "##### DO NOT CHANGE #####\n",
    "# NOTE: You will have to understand, but not modify the content of this cell!\n",
    "\n",
    "\n",
    "class NaiveBayesClassifier:\n",
    "    \"\"\"\n",
    "    Custom implementation of a Naive Bayes classifier.\n",
    "    \"\"\"\n",
    "    \n",
    "    # :const CONTINUOUS: The constant string literal that can be used as a value in the ``observation_types`` \n",
    "    #                    dictionary to indicate a continuous / float observation.\n",
    "    CONTINUOUS: str = 'continuous'\n",
    "        \n",
    "    # :const CATEGORICAL: The constant string literal that can be used as a value in the ``observation_types`` \n",
    "    #                     dictionary to indicate a categorical / integer observation.\n",
    "    CATEGORICAL: str = 'categorical'\n",
    "    \n",
    "    def __init__(self, \n",
    "                 num_targets: int,\n",
    "                 observation_types: dict[int, str],\n",
    "                 ) -> None:\n",
    "        \"\"\"\n",
    "        :param num_targets: The number of targets to be predicted.\n",
    "        :param observation_type: A dict whose keys are the integer indices of the observations and \n",
    "            the values is either of the string literals \"continuous\" or \"categorical\" which \n",
    "            indicate whether the corresponding observation is a continuous random variable \n",
    "            (requires gaussian fit) or a categorical random variable (requires categorical fit)\n",
    "        \"\"\"\n",
    "        \n",
    "        self.num_targets = num_targets\n",
    "        # This list contains the target indices aka the possible target values / classes.\n",
    "        self.target_indices: list[int] = np.arange(num_targets)\n",
    "        \n",
    "        # The keys of this dict are the integer indices of the observations within the \n",
    "        # observation vectors and the values are string literals which identify whether that \n",
    "        # corresponding observation is continuous (needing gaussian fit) or categorical \n",
    "        # (needing categorical fit).\n",
    "        self.observation_types: dict[int, str] = observation_types\n",
    "        # This list contains the observation indices that will be considered by the \n",
    "        # model.\n",
    "        self.observation_indices: list[int] = list(observation_types.keys())\n",
    "    \n",
    "        # During the fit process this dictionary will be populated, where the \n",
    "        # integers are the observation indices and the values are the corrsponding \n",
    "        # conditional probability functions p(x|y).\n",
    "        self.observation_funcs: dict[int, t.Callable] = {}\n",
    "            \n",
    "        # During the fit process this dict will be populated, where the keys are the \n",
    "        # target class index and the values are the prior probabilities of the targets\n",
    "        self.target_priors: dict[int, float] = {}\n",
    "    \n",
    "    def fit(self, xs: np.ndarray, ys: np.ndarray) -> None:\n",
    "        \"\"\"\n",
    "        fits the model for the given observations ``xs`` of shape (num_elements, num_observations) \n",
    "        and the corresponding target classes ``ys`` of shape (num_elements, ).\n",
    "        \n",
    "        :param xs: The list of observation vectors with shape (num_elements, num_observations)\n",
    "        :param ys: The list of target classes with shape (num_elements, )\n",
    "        \n",
    "        :returns: None\n",
    "        \"\"\"\n",
    "        # x: (num_elements, num_attributes)\n",
    "        # y: (num_elements, num_targets)\n",
    "        \n",
    "        # ~ fitting the prior target probabilities\n",
    "        for target_index in self.target_indices:\n",
    "            self.target_priors[target_index] = len([y for y in ys if y == target_index]) / len(ys)\n",
    "        \n",
    "        # ~ fitting the conditional probability densities\n",
    "        for observation_index, observation_type in self.observation_types.items():\n",
    "            \n",
    "            if observation_type == 'categorical':\n",
    "                func = self.fit_categorical(xs[:, observation_index], ys)\n",
    "            elif observation_type == 'continuous':\n",
    "                func = self.fit_gaussian(xs[:, observation_index], ys)\n",
    "                \n",
    "            self.observation_funcs[observation_index] = func\n",
    "    \n",
    "    def fit_gaussian(self, xs: np.ndarray, ys: np.ndarray) -> t.Callable[[float, int], float]:\n",
    "        return fit_gaussian(xs, ys)\n",
    "    \n",
    "    def fit_categorical(self, xs: np.ndarray, ys: np.ndarray) -> t.Callable[[int, int], float]:\n",
    "        return fit_categorical(xs, ys)\n",
    "    \n",
    "    def predict_single(self, x: np.ndarray) -> int:\n",
    "        \"\"\"\n",
    "        performs a single prediction based on the given vector of observations ``x`` with the shape \n",
    "        (num_observations, ). Method returns the integer index of the predicted target class.\n",
    "        \n",
    "        :param x: observation array of shape (num_observations, )\n",
    "        \n",
    "        :returns: integer target index\n",
    "        \"\"\"\n",
    "        \n",
    "        assert len(x.shape) == 1, 'observation array needs to have shape (num_observations, )!'\n",
    "        num_observations = x.shape[0]\n",
    "        \n",
    "        # In this dictionary we will store the accumulated likelihoods corresponding to the different \n",
    "        # target values. The keys of this dict are the target indices and the values are the \n",
    "        # corresponding likelihoods that have been calculated according to Bayes' rule.\n",
    "        target_ps: dict[int, float] = defaultdict(int)\n",
    "            \n",
    "        # log likelihoods:\n",
    "        # Instead of multiplicatively accumulating the raw likelihood values in the range [0, 1] \n",
    "        # we will actually additively accumulate the log likelihoods. This does not make a difference \n",
    "        # for the argmax computation.\n",
    "        for target_index in self.target_indices:\n",
    "            target_ps[target_index] = np.log(self.target_priors[target_index])\n",
    "            \n",
    "            for observation_index in range(num_observations):\n",
    "                func = self.observation_funcs[observation_index]\n",
    "                # Here we evaluate the fitted function for the actual probability and add a very small \n",
    "                # value to avoid the probability being exactly zero which would skew the total \n",
    "                # probability\n",
    "                p = func(x[observation_index], target_index) + 1e-6\n",
    "                log_p = np.log(p)\n",
    "                target_ps[target_index] += log_p\n",
    "        \n",
    "        return max(self.target_indices, key=lambda i: target_ps[i])\n",
    "    \n",
    "    def predict(self, xs: np.ndarray) -> np.ndarray:\n",
    "        \"\"\"\n",
    "        Performs multiple predictions for all of the elements contained in the given array \n",
    "        of observations ``xs``.\n",
    "        \n",
    "        :param xs: An array of the shape (num_elements, num_observations)\n",
    "        \n",
    "        :returns: The array of the resulting target class predictions of the shape (num_elements, )\n",
    "            where all elements are an integer number indicating the predicted class.\n",
    "        \"\"\"\n",
    "        \n",
    "        assert isinstance(xs, np.ndarray)\n",
    "        assert len(xs.shape) == 2, 'observation array needs to have shape (num_elements, num_observations)'\n",
    "        \n",
    "        # For multiple predictions we simple iterate over the list of all individual observations \n",
    "        # and use the ``predict_single`` function.\n",
    "        ys = []\n",
    "        for x in xs:\n",
    "            ys.append(self.predict_single(x))\n",
    "            \n",
    "        return np.array(ys)\n",
    "\n",
    "\n",
    "##### DO NOT CHANGE #####"
   ]
  },
  {
   "cell_type": "markdown",
   "metadata": {
    "deletable": false,
    "editable": false,
    "nbgrader": {
     "cell_type": "markdown",
     "checksum": "d93ab3219eb03b24bdff55d852103c86",
     "grade": false,
     "grade_id": "cell-c76b37fce585a35a",
     "locked": true,
     "schema_version": 3,
     "solution": false,
     "task": false
    }
   },
   "source": [
    "**🛠️ Task 5.13 (1 points)** For this task, you'll have to implement a function ``dataset_from_df``. Currently the student survey dataset is still available as a DataFrame object. To fit the ``NaiveBayesClassifier``. It will have to be processed into a dataset consisting of two numpy arrays ``xs`` and ``ys`` containing the observations and targets respectively. The observation array of the dataset should be structured like this exmaple:\n",
    "\n",
    "```python\n",
    "xs = [\n",
    "    [\n",
    "        210,   # hours of study\n",
    "        93,    # points in the exercise\n",
    "        0,     # lecture attendence\n",
    "        1,     # studying uses old exams\n",
    "    ],\n",
    "    # ...\n",
    "]\n",
    "```\n",
    "\n",
    "For the target value, we want to predict the **exam outcome** $\\in \\{\\mathrm{fail}, \\mathrm{pass}\\} = \\{0, 1\\}$. The target array should therefore be structured like this example:\n",
    "\n",
    "```python\n",
    "ys = [\n",
    "    0,         # fail\n",
    "    1,         # pass\n",
    "    # ...\n",
    "]\n",
    "```"
   ]
  },
  {
   "cell_type": "code",
   "execution_count": 178,
   "metadata": {
    "deletable": false,
    "nbgrader": {
     "cell_type": "code",
     "checksum": "cf67c7d24a0743cbab8c68e1e2d4c088",
     "grade": false,
     "grade_id": "cell-4b373d0419ac1b83",
     "locked": false,
     "schema_version": 3,
     "solution": true,
     "task": false
    }
   },
   "outputs": [],
   "source": [
    "# TASK: Implement the following function which receives the student survey dataset in the form \n",
    "#       of a dataframe and returns a tuple of two numpy arrays that represent the observation and \n",
    "#       targets respectively in the form needed to train the classifier.\n",
    "\n",
    "\n",
    "def dataset_from_df(data_frame: pd.DataFrame\n",
    "                    ) -> tuple[np.ndarray, np.ndarray]:\n",
    "    \"\"\"\n",
    "    This function takes a pandas DataFrame ``data_frame`` object as an input and is supposed \n",
    "    to return two numeric numpy arrays which contain the observation vectors and target classes \n",
    "    for each sample of the dataset respectively.\n",
    "    \n",
    "    The observation array ``xs`` has to have the shape (num_elements, num_observations)\n",
    "    The target array ``ys`` has to have the shape (num_elements, )\n",
    "    \n",
    "    :param data_frame: A dataframe object containing the student survey dataset.\n",
    "    \n",
    "    :returns: A tuple of numpy arrays (xs, ys)\n",
    "    \"\"\"\n",
    "    \n",
    "    # YOUR CODE HERE\n",
    "    return np.array(data_frame.drop(columns=['passed']).values), np.array(data_frame['passed'].values)\n"
   ]
  },
  {
   "cell_type": "code",
   "execution_count": 179,
   "metadata": {
    "deletable": false,
    "editable": false,
    "nbgrader": {
     "cell_type": "code",
     "checksum": "271c2ad05a71dfbc397a8f0d99c55b34",
     "grade": true,
     "grade_id": "test-5-13-convert-dataset",
     "locked": true,
     "points": 1,
     "schema_version": 3,
     "solution": false,
     "task": false
    }
   },
   "outputs": [],
   "source": [
    "##### DO NOT CHANGE #####\n",
    "# ID: test-5-13-convert-dataset - possible points: 1\n",
    "\n",
    "\n",
    "df_ = pd.DataFrame({\n",
    "    'hours_study':      [200, 300], \n",
    "    'exercise_points':  [87, 45],\n",
    "    'lecture':          [0, 1],\n",
    "    'old_exams':        [1, 0],\n",
    "    'passed':           [1, 0],\n",
    "})\n",
    "\n",
    "xs_, ys_ = dataset_from_df(df_)\n",
    "\n",
    "assert isinstance(xs_, np.ndarray)\n",
    "assert len(xs_) == 2\n",
    "\n",
    "assert isinstance(ys_, np.ndarray)\n",
    "assert len(ys_) == 2\n",
    "\n",
    "# NOTE: The hidden tests will construct a more complex example df_ and check for the exact \n",
    "#       shapes as well as the exact values.\n",
    "\n",
    "\n",
    "##### DO NOT CHANGE #####"
   ]
  },
  {
   "cell_type": "markdown",
   "metadata": {
    "deletable": false,
    "editable": false,
    "nbgrader": {
     "cell_type": "markdown",
     "checksum": "500e12555697d74659ad0e169c9ed8ad",
     "grade": false,
     "grade_id": "cell-43fd6caf454a67c7",
     "locked": true,
     "schema_version": 3,
     "solution": false,
     "task": false
    }
   },
   "source": [
    "**🛠️ Task 5.14 (2 points)** For this task, we will actually instantiate a new ``NaiveBayesClassifier`` model and fit it with the data from the student survey dataset."
   ]
  },
  {
   "cell_type": "code",
   "execution_count": 180,
   "metadata": {
    "deletable": false,
    "nbgrader": {
     "cell_type": "code",
     "checksum": "f631bb097f8a623be424413f73f13a3d",
     "grade": false,
     "grade_id": "cell-0020b31412e327a1",
     "locked": false,
     "schema_version": 3,
     "solution": true,
     "task": false
    }
   },
   "outputs": [
    {
     "name": "stdout",
     "output_type": "stream",
     "text": [
      "Index(['passed', 'qualified', 'hours_study', 'exercise_points', 'lecture',\n",
      "       'old_exams'],\n",
      "      dtype='object')\n",
      "Model training accuracy: 99.00%\n"
     ]
    }
   ],
   "source": [
    "from sklearn.metrics import accuracy_score\n",
    "\n",
    "print(df.columns)\n",
    "xs, ys = dataset_from_df(df)\n",
    "# preparing the training and validation split for the model training.\n",
    "xs_train, xs_val = xs[:200], xs[200:]\n",
    "ys_train, ys_val = ys[:200], ys[200:]\n",
    "\n",
    "# TASK: Instantiate a new model into this variable ``model`` and use the ``fit`` method to train \n",
    "#       the classifier on the training split of the dataset.\n",
    "\n",
    "model: NaiveBayesClassifier = NaiveBayesClassifier(num_targets=2,\n",
    "                                                  observation_types={\n",
    "                                                      0: NaiveBayesClassifier.CATEGORICAL,\n",
    "                                                      1: NaiveBayesClassifier.CONTINUOUS,\n",
    "                                                      2: NaiveBayesClassifier.CONTINUOUS,\n",
    "                                                      3: NaiveBayesClassifier.CATEGORICAL,\n",
    "                                                      4: NaiveBayesClassifier.CATEGORICAL,\n",
    "                                                  })\n",
    "\n",
    "# YOUR CODE HERE\n",
    "model.fit(xs_train, ys_train)\n",
    "ys_pred = model.predict(xs_train)\n",
    "acc_train = accuracy_score(ys_train, ys_pred)\n",
    "print(f'Model training accuracy: {acc_train*100:.2f}%')\n"
   ]
  },
  {
   "cell_type": "code",
   "execution_count": 181,
   "metadata": {
    "deletable": false,
    "editable": false,
    "nbgrader": {
     "cell_type": "code",
     "checksum": "8ca65c4206f9070841e66f784248e058",
     "grade": true,
     "grade_id": "test-5-14-train-model",
     "locked": true,
     "points": 2,
     "schema_version": 3,
     "solution": false,
     "task": false
    }
   },
   "outputs": [
    {
     "name": "stdout",
     "output_type": "stream",
     "text": [
      "Model validation accuracy: 100.00%\n"
     ]
    }
   ],
   "source": [
    "##### DO NOT CHANGE #####\n",
    "# ID: test-5-14-train-model - possible points: 2\n",
    "\n",
    "from sklearn.metrics import accuracy_score\n",
    "\n",
    "ys_pred = model.predict(xs_val)\n",
    "assert ys_pred.shape == ys_val.shape, 'multi-element prediction failed'\n",
    "\n",
    "acc_val = accuracy_score(ys_val, ys_pred)\n",
    "print(f'Model validation accuracy: {acc_val*100:.2f}%')\n",
    "assert acc_val >= 0.8, 'validation accuracy too low'\n",
    "\n",
    "# Note: The hidden tests will download an independent and unseen test set (w. same distribution) and \n",
    "#       test the accuracy of the fitted  model! The model will not be checked for an exact accuracy \n",
    "#       but will have to pass a minimal accuracy threshold of 80% on this unseen test set.\n",
    "\n",
    "# Note: The hidden tests rely on a working implementation of ``dataset_from_df`` to process the \n",
    "#       downloaded test set - so make sure that it is working properly.\n",
    "\n",
    "\n",
    "##### DO NOT CHANGE #####"
   ]
  },
  {
   "cell_type": "markdown",
   "metadata": {
    "deletable": false,
    "editable": false,
    "nbgrader": {
     "cell_type": "markdown",
     "checksum": "3bf618e40df9ca745c51beff4d16bc77",
     "grade": false,
     "grade_id": "cell-a0b208d5291352cb",
     "locked": true,
     "schema_version": 3,
     "solution": false,
     "task": false
    }
   },
   "source": [
    "⚠️ **DISCLAIMER.** The student survey dataset used in this exercise was *synthetically* created. The data is not based on any real individuals or events. Consequently, it is not advisable to use the trained predictive models to predict your own exam outcome!"
   ]
  }
 ],
 "metadata": {
  "kernelspec": {
   "display_name": "data-science",
   "language": "python",
   "name": "python3"
  },
  "language_info": {
   "codemirror_mode": {
    "name": "ipython",
    "version": 3
   },
   "file_extension": ".py",
   "mimetype": "text/x-python",
   "name": "python",
   "nbconvert_exporter": "python",
   "pygments_lexer": "ipython3",
   "version": "3.12.7"
  }
 },
 "nbformat": 4,
 "nbformat_minor": 4
}
